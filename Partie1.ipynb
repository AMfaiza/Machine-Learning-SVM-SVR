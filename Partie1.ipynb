{
 "cells": [
  {
   "cell_type": "markdown",
   "id": "1696344a",
   "metadata": {},
   "source": [
    "## <font color=Pink>Classification </font>\n",
    " \n",
    "#### Considérons la base Adul (a1a), où l’objectif est de prédire si un ménage a un revenu supérieur à 50000$ ou pas.\n",
    "***"
   ]
  },
  {
   "cell_type": "markdown",
   "id": "a5044383",
   "metadata": {},
   "source": [
    "###  Importer les librairies nécessaires"
   ]
  },
  {
   "cell_type": "code",
   "execution_count": 1,
   "id": "b38e90e1",
   "metadata": {},
   "outputs": [],
   "source": [
    "# Le package du traitement et de l'analyse de donnees: PANDAS\n",
    "import pandas as pd\n",
    "# Le package de la visualisation graphique: MATPLOTLIB \n",
    "import matplotlib.pyplot as plt\n",
    "# Le package qui est construit sur le dessus de la bib matplotlib et il est pour la visualisation graphique statistique des donnees\n",
    "import seaborn as sns\n",
    "# Le package de la manipulation des tableaus et des variables aleatoires: NUMPY\n",
    "import numpy as np\n",
    "\n",
    "# Importer la fonction minmax_scale de sklearn pour mettre à l'échelle les valeurs d'une série ou d'une matrice dans un intervalle spécifié.\n",
    "from sklearn.preprocessing import minmax_scale, StandardScaler \n",
    "# Importation des outils de validation croisée, de division des données et d'évaluation croisée.\n",
    "from sklearn.model_selection import GridSearchCV, train_test_split, cross_val_score\n",
    "# Importation du module de prétraitement des données.\n",
    "from sklearn import preprocessing \n",
    "# Importation du module SVM pour la classification et la régression.\n",
    "from sklearn import svm\n",
    "# Importation de la classe SVC pour la classification SVM.\n",
    "from sklearn.svm import SVC\n",
    "# Importation de la classe RandomForestClassifier pour les forêts aléatoires.\n",
    "from sklearn.ensemble import RandomForestClassifier\n",
    "# Importation de la classe DecisionTreeClassifier pour les arbres de décision.\n",
    "from sklearn.tree import DecisionTreeClassifier\n",
    "#Importation de diverses métriques d'évaluation de la performance des modèles.\n",
    "from sklearn.metrics import  precision_score, recall_score, f1_score, roc_auc_score, make_scorer, confusion_matrix\n",
    "from sklearn.metrics import accuracy_score, classification_report, mean_squared_error,roc_curve, r2_score\n",
    "\n",
    "# Ignorer les alertes\n",
    "import warnings\n",
    "warnings.filterwarnings('ignore')"
   ]
  },
  {
   "cell_type": "markdown",
   "id": "641b34b4",
   "metadata": {},
   "source": [
    "### Préparation des données"
   ]
  },
  {
   "cell_type": "code",
   "execution_count": 2,
   "id": "7b97fb2b",
   "metadata": {},
   "outputs": [],
   "source": [
    "# Lire notre dataset du \"train\"\n",
    "with open('C:/Users/mon/Desktop/Inbox/Studies/Apprentissage statistique/a1a.libsvm') as file_object:\n",
    "    data = file_object.read()"
   ]
  },
  {
   "cell_type": "code",
   "execution_count": 3,
   "id": "94572c16",
   "metadata": {},
   "outputs": [],
   "source": [
    "rows = data.split('\\n') # Fractionner les données par le caractères de saut de ligne (\\n)\n",
    "columns = [row.split(' ') for row in rows] # Fractionner chaque ligne par colonnes\n",
    "values = [[(col) for col in row] for row in columns] # Affecter les colonnes a la variable 'values'"
   ]
  },
  {
   "cell_type": "code",
   "execution_count": 4,
   "id": "a5c8bc7b",
   "metadata": {},
   "outputs": [
    {
     "name": "stdout",
     "output_type": "stream",
     "text": [
      "    A    B     C     D     E     F     G     H     I     J     K     L     M  \\\n",
      "0  -1  3:1  11:1  14:1  19:1  39:1  42:1  55:1  64:1  67:1  73:1  75:1  76:1   \n",
      "1  -1  3:1   6:1  17:1  27:1  35:1  40:1  57:1  63:1  69:1  73:1  74:1  76:1   \n",
      "2  -1  4:1   6:1  15:1  21:1  35:1  40:1  57:1  63:1  67:1  73:1  74:1  77:1   \n",
      "3  -1  5:1   6:1  15:1  22:1  36:1  41:1  47:1  66:1  67:1  72:1  74:1  76:1   \n",
      "4  -1  2:1   6:1  16:1  22:1  36:1  40:1  54:1  63:1  67:1  73:1  75:1  76:1   \n",
      "5  -1  2:1   6:1  14:1  20:1  37:1  41:1  47:1  64:1  67:1  73:1  74:1  76:1   \n",
      "6  -1  1:1   6:1  14:1  22:1  36:1  42:1  49:1  64:1  67:1  72:1  74:1  77:1   \n",
      "7  -1  1:1   6:1  17:1  19:1  39:1  42:1  53:1  64:1  67:1  73:1  74:1  76:1   \n",
      "8  -1  2:1   6:1  18:1  20:1  37:1  42:1  48:1  64:1  71:1  73:1  74:1  76:1   \n",
      "9  +1  5:1  11:1  15:1  32:1  39:1  40:1  52:1  63:1  67:1  73:1  74:1  76:1   \n",
      "\n",
      "      N      O P  \n",
      "0  80:1   83:1    \n",
      "1  81:1  103:1    \n",
      "2  80:1   83:1    \n",
      "3  80:1   83:1    \n",
      "4  80:1   83:1    \n",
      "5  82:1   83:1    \n",
      "6  80:1   83:1    \n",
      "7  80:1   83:1    \n",
      "8  81:1   83:1    \n",
      "9  78:1   83:1    \n"
     ]
    }
   ],
   "source": [
    "df = pd.DataFrame(values, columns=['A', 'B', 'C', 'D', 'E', 'F', 'G', 'H', 'I', 'J', 'K', 'L', 'M', 'N', 'O', 'P']) # creer un dataframe avec des noms des colonnes\n",
    "print(df.head(10)) # Afficher 10 lignes du dataframe"
   ]
  },
  {
   "cell_type": "markdown",
   "id": "265d39d5",
   "metadata": {},
   "source": [
    "* **Voir la taille de notre ensemble de données** "
   ]
  },
  {
   "cell_type": "code",
   "execution_count": 5,
   "id": "e3f1685f",
   "metadata": {},
   "outputs": [
    {
     "name": "stdout",
     "output_type": "stream",
     "text": [
      "(1606, 16)\n"
     ]
    }
   ],
   "source": [
    "df_shape = df.shape\n",
    "print(df_shape)"
   ]
  },
  {
   "cell_type": "markdown",
   "id": "f7dde5bc",
   "metadata": {},
   "source": [
    "* **Afficher les noms des colonnes du dataframe** "
   ]
  },
  {
   "cell_type": "code",
   "execution_count": 6,
   "id": "0ee124e2",
   "metadata": {},
   "outputs": [
    {
     "name": "stdout",
     "output_type": "stream",
     "text": [
      "Index(['A', 'B', 'C', 'D', 'E', 'F', 'G', 'H', 'I', 'J', 'K', 'L', 'M', 'N',\n",
      "       'O', 'P'],\n",
      "      dtype='object')\n"
     ]
    }
   ],
   "source": [
    "df_columns = df.columns\n",
    "print(df_columns)"
   ]
  },
  {
   "cell_type": "code",
   "execution_count": 7,
   "id": "609e476b",
   "metadata": {},
   "outputs": [
    {
     "name": "stdout",
     "output_type": "stream",
     "text": [
      "<class 'pandas.core.frame.DataFrame'>\n",
      "RangeIndex: 1606 entries, 0 to 1605\n",
      "Data columns (total 16 columns):\n",
      " #   Column  Non-Null Count  Dtype \n",
      "---  ------  --------------  ----- \n",
      " 0   A       1606 non-null   object\n",
      " 1   B       1605 non-null   object\n",
      " 2   C       1605 non-null   object\n",
      " 3   D       1605 non-null   object\n",
      " 4   E       1605 non-null   object\n",
      " 5   F       1605 non-null   object\n",
      " 6   G       1605 non-null   object\n",
      " 7   H       1605 non-null   object\n",
      " 8   I       1605 non-null   object\n",
      " 9   J       1605 non-null   object\n",
      " 10  K       1605 non-null   object\n",
      " 11  L       1605 non-null   object\n",
      " 12  M       1605 non-null   object\n",
      " 13  N       1605 non-null   object\n",
      " 14  O       1511 non-null   object\n",
      " 15  P       1478 non-null   object\n",
      "dtypes: object(16)\n",
      "memory usage: 200.9+ KB\n"
     ]
    }
   ],
   "source": [
    "# Otenir un aperçu rapide de l’ensemble de données\n",
    "df.info()"
   ]
  },
  {
   "cell_type": "markdown",
   "id": "00100b1f",
   "metadata": {},
   "source": [
    "- Nous voyons bien l'existance des valeurs manquantes."
   ]
  },
  {
   "cell_type": "markdown",
   "id": "636a19f0",
   "metadata": {},
   "source": [
    "### Prétraitement des données"
   ]
  },
  {
   "cell_type": "markdown",
   "id": "d7bff673",
   "metadata": {},
   "source": [
    "* **Traitement des valeurs manquantes**"
   ]
  },
  {
   "cell_type": "code",
   "execution_count": 8,
   "id": "a6aee66c",
   "metadata": {},
   "outputs": [
    {
     "data": {
      "text/html": [
       "<div>\n",
       "<style scoped>\n",
       "    .dataframe tbody tr th:only-of-type {\n",
       "        vertical-align: middle;\n",
       "    }\n",
       "\n",
       "    .dataframe tbody tr th {\n",
       "        vertical-align: top;\n",
       "    }\n",
       "\n",
       "    .dataframe thead th {\n",
       "        text-align: right;\n",
       "    }\n",
       "</style>\n",
       "<table border=\"1\" class=\"dataframe\">\n",
       "  <thead>\n",
       "    <tr style=\"text-align: right;\">\n",
       "      <th></th>\n",
       "      <th>A</th>\n",
       "      <th>B</th>\n",
       "      <th>C</th>\n",
       "      <th>D</th>\n",
       "      <th>E</th>\n",
       "      <th>F</th>\n",
       "      <th>G</th>\n",
       "      <th>H</th>\n",
       "      <th>I</th>\n",
       "      <th>J</th>\n",
       "      <th>K</th>\n",
       "      <th>L</th>\n",
       "      <th>M</th>\n",
       "      <th>N</th>\n",
       "      <th>O</th>\n",
       "      <th>P</th>\n",
       "    </tr>\n",
       "  </thead>\n",
       "  <tbody>\n",
       "    <tr>\n",
       "      <th>0</th>\n",
       "      <td>-1</td>\n",
       "      <td>3:1</td>\n",
       "      <td>11:1</td>\n",
       "      <td>14:1</td>\n",
       "      <td>19:1</td>\n",
       "      <td>39:1</td>\n",
       "      <td>42:1</td>\n",
       "      <td>55:1</td>\n",
       "      <td>64:1</td>\n",
       "      <td>67:1</td>\n",
       "      <td>73:1</td>\n",
       "      <td>75:1</td>\n",
       "      <td>76:1</td>\n",
       "      <td>80:1</td>\n",
       "      <td>83:1</td>\n",
       "      <td></td>\n",
       "    </tr>\n",
       "    <tr>\n",
       "      <th>1</th>\n",
       "      <td>-1</td>\n",
       "      <td>3:1</td>\n",
       "      <td>6:1</td>\n",
       "      <td>17:1</td>\n",
       "      <td>27:1</td>\n",
       "      <td>35:1</td>\n",
       "      <td>40:1</td>\n",
       "      <td>57:1</td>\n",
       "      <td>63:1</td>\n",
       "      <td>69:1</td>\n",
       "      <td>73:1</td>\n",
       "      <td>74:1</td>\n",
       "      <td>76:1</td>\n",
       "      <td>81:1</td>\n",
       "      <td>103:1</td>\n",
       "      <td></td>\n",
       "    </tr>\n",
       "    <tr>\n",
       "      <th>2</th>\n",
       "      <td>-1</td>\n",
       "      <td>4:1</td>\n",
       "      <td>6:1</td>\n",
       "      <td>15:1</td>\n",
       "      <td>21:1</td>\n",
       "      <td>35:1</td>\n",
       "      <td>40:1</td>\n",
       "      <td>57:1</td>\n",
       "      <td>63:1</td>\n",
       "      <td>67:1</td>\n",
       "      <td>73:1</td>\n",
       "      <td>74:1</td>\n",
       "      <td>77:1</td>\n",
       "      <td>80:1</td>\n",
       "      <td>83:1</td>\n",
       "      <td></td>\n",
       "    </tr>\n",
       "    <tr>\n",
       "      <th>3</th>\n",
       "      <td>-1</td>\n",
       "      <td>5:1</td>\n",
       "      <td>6:1</td>\n",
       "      <td>15:1</td>\n",
       "      <td>22:1</td>\n",
       "      <td>36:1</td>\n",
       "      <td>41:1</td>\n",
       "      <td>47:1</td>\n",
       "      <td>66:1</td>\n",
       "      <td>67:1</td>\n",
       "      <td>72:1</td>\n",
       "      <td>74:1</td>\n",
       "      <td>76:1</td>\n",
       "      <td>80:1</td>\n",
       "      <td>83:1</td>\n",
       "      <td></td>\n",
       "    </tr>\n",
       "    <tr>\n",
       "      <th>4</th>\n",
       "      <td>-1</td>\n",
       "      <td>2:1</td>\n",
       "      <td>6:1</td>\n",
       "      <td>16:1</td>\n",
       "      <td>22:1</td>\n",
       "      <td>36:1</td>\n",
       "      <td>40:1</td>\n",
       "      <td>54:1</td>\n",
       "      <td>63:1</td>\n",
       "      <td>67:1</td>\n",
       "      <td>73:1</td>\n",
       "      <td>75:1</td>\n",
       "      <td>76:1</td>\n",
       "      <td>80:1</td>\n",
       "      <td>83:1</td>\n",
       "      <td></td>\n",
       "    </tr>\n",
       "  </tbody>\n",
       "</table>\n",
       "</div>"
      ],
      "text/plain": [
       "    A    B     C     D     E     F     G     H     I     J     K     L     M  \\\n",
       "0  -1  3:1  11:1  14:1  19:1  39:1  42:1  55:1  64:1  67:1  73:1  75:1  76:1   \n",
       "1  -1  3:1   6:1  17:1  27:1  35:1  40:1  57:1  63:1  69:1  73:1  74:1  76:1   \n",
       "2  -1  4:1   6:1  15:1  21:1  35:1  40:1  57:1  63:1  67:1  73:1  74:1  77:1   \n",
       "3  -1  5:1   6:1  15:1  22:1  36:1  41:1  47:1  66:1  67:1  72:1  74:1  76:1   \n",
       "4  -1  2:1   6:1  16:1  22:1  36:1  40:1  54:1  63:1  67:1  73:1  75:1  76:1   \n",
       "\n",
       "      N      O P  \n",
       "0  80:1   83:1    \n",
       "1  81:1  103:1    \n",
       "2  80:1   83:1    \n",
       "3  80:1   83:1    \n",
       "4  80:1   83:1    "
      ]
     },
     "execution_count": 8,
     "metadata": {},
     "output_type": "execute_result"
    }
   ],
   "source": [
    "# Supprimer les valeurs manquantes\n",
    "df=df.dropna()\n",
    "df.head()"
   ]
  },
  {
   "cell_type": "code",
   "execution_count": 9,
   "id": "4d589b35",
   "metadata": {},
   "outputs": [
    {
     "data": {
      "text/plain": [
       "A    0\n",
       "B    0\n",
       "C    0\n",
       "D    0\n",
       "E    0\n",
       "F    0\n",
       "G    0\n",
       "H    0\n",
       "I    0\n",
       "J    0\n",
       "K    0\n",
       "L    0\n",
       "M    0\n",
       "N    0\n",
       "O    0\n",
       "P    0\n",
       "dtype: int64"
      ]
     },
     "execution_count": 9,
     "metadata": {},
     "output_type": "execute_result"
    }
   ],
   "source": [
    "# Voir le nombre de valeurs manquantes restantes \n",
    "df.isnull().sum()"
   ]
  },
  {
   "cell_type": "code",
   "execution_count": 10,
   "id": "2912c949",
   "metadata": {},
   "outputs": [
    {
     "name": "stdout",
     "output_type": "stream",
     "text": [
      "<class 'pandas.core.frame.DataFrame'>\n",
      "Index: 1478 entries, 0 to 1604\n",
      "Data columns (total 16 columns):\n",
      " #   Column  Non-Null Count  Dtype \n",
      "---  ------  --------------  ----- \n",
      " 0   A       1478 non-null   object\n",
      " 1   B       1478 non-null   object\n",
      " 2   C       1478 non-null   object\n",
      " 3   D       1478 non-null   object\n",
      " 4   E       1478 non-null   object\n",
      " 5   F       1478 non-null   object\n",
      " 6   G       1478 non-null   object\n",
      " 7   H       1478 non-null   object\n",
      " 8   I       1478 non-null   object\n",
      " 9   J       1478 non-null   object\n",
      " 10  K       1478 non-null   object\n",
      " 11  L       1478 non-null   object\n",
      " 12  M       1478 non-null   object\n",
      " 13  N       1478 non-null   object\n",
      " 14  O       1478 non-null   object\n",
      " 15  P       1478 non-null   object\n",
      "dtypes: object(16)\n",
      "memory usage: 196.3+ KB\n"
     ]
    }
   ],
   "source": [
    "# Voir le résumé du DataFrame 'df'\n",
    "df.info() "
   ]
  },
  {
   "cell_type": "code",
   "execution_count": 11,
   "id": "5454fa12",
   "metadata": {},
   "outputs": [
    {
     "data": {
      "text/plain": [
       "0        \n",
       "1        \n",
       "2        \n",
       "3        \n",
       "4        \n",
       "       ..\n",
       "1599     \n",
       "1600     \n",
       "1602     \n",
       "1603     \n",
       "1604     \n",
       "Name: P, Length: 1478, dtype: object"
      ]
     },
     "execution_count": 11,
     "metadata": {},
     "output_type": "execute_result"
    }
   ],
   "source": [
    "# Afficher la colonne P, car nous la voyons qu'elle est vide en valeurs \n",
    "df['P']"
   ]
  },
  {
   "cell_type": "markdown",
   "id": "64ed1bf5",
   "metadata": {},
   "source": [
    "* **Supprimer les colonnes inutiles**"
   ]
  },
  {
   "cell_type": "code",
   "execution_count": 12,
   "id": "4c80519b",
   "metadata": {},
   "outputs": [],
   "source": [
    "# Supprimer la colonne P\n",
    "df.drop(['P'], axis=1, inplace=True)"
   ]
  },
  {
   "cell_type": "markdown",
   "id": "cd0af4e8",
   "metadata": {},
   "source": [
    "* **Visualisons la colonne [A], car elle est notre objectif et ses valeurs représentent les deux classes (<50k = -1 ) et (>50k = 1)**"
   ]
  },
  {
   "cell_type": "code",
   "execution_count": 13,
   "id": "d5071c82",
   "metadata": {},
   "outputs": [
    {
     "data": {
      "text/plain": [
       "<Axes: xlabel='A', ylabel='count'>"
      ]
     },
     "execution_count": 13,
     "metadata": {},
     "output_type": "execute_result"
    },
    {
     "data": {
      "image/png": "[encoded data removed]",
      "text/plain": [
       "<Figure size 640x480 with 1 Axes>"
      ]
     },
     "metadata": {},
     "output_type": "display_data"
    }
   ],
   "source": [
    "sns.countplot(x=\"A\", data=df)"
   ]
  },
  {
   "cell_type": "markdown",
   "id": "342fb31d",
   "metadata": {},
   "source": [
    "- On remarque que la classe des personnes qui ont un revenu de moins de 50 000 $ est majoritaire."
   ]
  },
  {
   "cell_type": "markdown",
   "id": "94b3ca19",
   "metadata": {},
   "source": [
    "#### 1/ Normaliser chaque attribut de la base sur l’intervalle [-1,1]\n",
    "***"
   ]
  },
  {
   "cell_type": "code",
   "execution_count": 14,
   "id": "186db982",
   "metadata": {},
   "outputs": [
    {
     "data": {
      "text/html": [
       "<div>\n",
       "<style scoped>\n",
       "    .dataframe tbody tr th:only-of-type {\n",
       "        vertical-align: middle;\n",
       "    }\n",
       "\n",
       "    .dataframe tbody tr th {\n",
       "        vertical-align: top;\n",
       "    }\n",
       "\n",
       "    .dataframe thead th {\n",
       "        text-align: right;\n",
       "    }\n",
       "</style>\n",
       "<table border=\"1\" class=\"dataframe\">\n",
       "  <thead>\n",
       "    <tr style=\"text-align: right;\">\n",
       "      <th></th>\n",
       "      <th>A</th>\n",
       "      <th>B</th>\n",
       "      <th>C</th>\n",
       "      <th>D</th>\n",
       "      <th>E</th>\n",
       "      <th>F</th>\n",
       "      <th>G</th>\n",
       "      <th>H</th>\n",
       "      <th>I</th>\n",
       "      <th>J</th>\n",
       "      <th>K</th>\n",
       "      <th>L</th>\n",
       "      <th>M</th>\n",
       "      <th>N</th>\n",
       "      <th>O</th>\n",
       "    </tr>\n",
       "  </thead>\n",
       "  <tbody>\n",
       "    <tr>\n",
       "      <th>0</th>\n",
       "      <td>-1</td>\n",
       "      <td>3.1</td>\n",
       "      <td>11.1</td>\n",
       "      <td>14.1</td>\n",
       "      <td>19.1</td>\n",
       "      <td>39.1</td>\n",
       "      <td>42.1</td>\n",
       "      <td>55.1</td>\n",
       "      <td>64.1</td>\n",
       "      <td>67.1</td>\n",
       "      <td>73.1</td>\n",
       "      <td>75.1</td>\n",
       "      <td>76.1</td>\n",
       "      <td>80.1</td>\n",
       "      <td>83.1</td>\n",
       "    </tr>\n",
       "    <tr>\n",
       "      <th>1</th>\n",
       "      <td>-1</td>\n",
       "      <td>3.1</td>\n",
       "      <td>6.1</td>\n",
       "      <td>17.1</td>\n",
       "      <td>27.1</td>\n",
       "      <td>35.1</td>\n",
       "      <td>40.1</td>\n",
       "      <td>57.1</td>\n",
       "      <td>63.1</td>\n",
       "      <td>69.1</td>\n",
       "      <td>73.1</td>\n",
       "      <td>74.1</td>\n",
       "      <td>76.1</td>\n",
       "      <td>81.1</td>\n",
       "      <td>103.1</td>\n",
       "    </tr>\n",
       "    <tr>\n",
       "      <th>2</th>\n",
       "      <td>-1</td>\n",
       "      <td>4.1</td>\n",
       "      <td>6.1</td>\n",
       "      <td>15.1</td>\n",
       "      <td>21.1</td>\n",
       "      <td>35.1</td>\n",
       "      <td>40.1</td>\n",
       "      <td>57.1</td>\n",
       "      <td>63.1</td>\n",
       "      <td>67.1</td>\n",
       "      <td>73.1</td>\n",
       "      <td>74.1</td>\n",
       "      <td>77.1</td>\n",
       "      <td>80.1</td>\n",
       "      <td>83.1</td>\n",
       "    </tr>\n",
       "    <tr>\n",
       "      <th>3</th>\n",
       "      <td>-1</td>\n",
       "      <td>5.1</td>\n",
       "      <td>6.1</td>\n",
       "      <td>15.1</td>\n",
       "      <td>22.1</td>\n",
       "      <td>36.1</td>\n",
       "      <td>41.1</td>\n",
       "      <td>47.1</td>\n",
       "      <td>66.1</td>\n",
       "      <td>67.1</td>\n",
       "      <td>72.1</td>\n",
       "      <td>74.1</td>\n",
       "      <td>76.1</td>\n",
       "      <td>80.1</td>\n",
       "      <td>83.1</td>\n",
       "    </tr>\n",
       "    <tr>\n",
       "      <th>4</th>\n",
       "      <td>-1</td>\n",
       "      <td>2.1</td>\n",
       "      <td>6.1</td>\n",
       "      <td>16.1</td>\n",
       "      <td>22.1</td>\n",
       "      <td>36.1</td>\n",
       "      <td>40.1</td>\n",
       "      <td>54.1</td>\n",
       "      <td>63.1</td>\n",
       "      <td>67.1</td>\n",
       "      <td>73.1</td>\n",
       "      <td>75.1</td>\n",
       "      <td>76.1</td>\n",
       "      <td>80.1</td>\n",
       "      <td>83.1</td>\n",
       "    </tr>\n",
       "  </tbody>\n",
       "</table>\n",
       "</div>"
      ],
      "text/plain": [
       "    A    B     C     D     E     F     G     H     I     J     K     L     M  \\\n",
       "0  -1  3.1  11.1  14.1  19.1  39.1  42.1  55.1  64.1  67.1  73.1  75.1  76.1   \n",
       "1  -1  3.1   6.1  17.1  27.1  35.1  40.1  57.1  63.1  69.1  73.1  74.1  76.1   \n",
       "2  -1  4.1   6.1  15.1  21.1  35.1  40.1  57.1  63.1  67.1  73.1  74.1  77.1   \n",
       "3  -1  5.1   6.1  15.1  22.1  36.1  41.1  47.1  66.1  67.1  72.1  74.1  76.1   \n",
       "4  -1  2.1   6.1  16.1  22.1  36.1  40.1  54.1  63.1  67.1  73.1  75.1  76.1   \n",
       "\n",
       "      N      O  \n",
       "0  80.1   83.1  \n",
       "1  81.1  103.1  \n",
       "2  80.1   83.1  \n",
       "3  80.1   83.1  \n",
       "4  80.1   83.1  "
      ]
     },
     "execution_count": 14,
     "metadata": {},
     "output_type": "execute_result"
    }
   ],
   "source": [
    "# On remplace les deux-points par des points dans toutes les colonnes du DataFrame en utilisant replace() et regex=True qui active la correspondance d’expressions régulières.\n",
    "df = df.replace(':', '.', regex=True) \n",
    "df.head()"
   ]
  },
  {
   "cell_type": "code",
   "execution_count": 15,
   "id": "f46f0fc4",
   "metadata": {},
   "outputs": [
    {
     "name": "stdout",
     "output_type": "stream",
     "text": [
      "       0             1    2    3         4    5         6         7    8   \\\n",
      "0    -1.0  2.220446e-16  1.0 -1.0 -1.000000  1.0 -0.333333  0.333333  0.2   \n",
      "1    -1.0  2.220446e-16 -1.0  0.5  0.066667 -1.0 -1.000000  0.666667 -0.2   \n",
      "2    -1.0  5.000000e-01 -1.0 -0.5 -0.733333 -1.0 -1.000000  0.666667 -0.2   \n",
      "3    -1.0  1.000000e+00 -1.0 -0.5 -0.600000 -0.5 -0.666667 -1.000000  1.0   \n",
      "4    -1.0 -5.000000e-01 -1.0  0.0 -0.600000 -0.5 -1.000000  0.166667 -0.2   \n",
      "...   ...           ...  ...  ...       ...  ...       ...       ...  ...   \n",
      "1473 -1.0 -5.000000e-01 -1.0 -0.5 -0.600000 -0.5 -1.000000  0.166667 -1.0   \n",
      "1474 -1.0  2.220446e-16 -1.0 -1.0 -0.600000 -0.5 -0.666667  0.333333  1.0   \n",
      "1475 -1.0 -1.000000e+00 -1.0  1.0 -0.733333 -1.0 -0.333333 -0.166667 -0.6   \n",
      "1476 -1.0 -1.000000e+00 -1.0  1.0 -0.600000 -0.5 -0.333333 -0.833333  0.6   \n",
      "1477 -1.0  5.000000e-01  0.6 -0.5 -0.333333  0.5 -0.666667 -0.166667  1.0   \n",
      "\n",
      "       9    10   11   12   13        14  \n",
      "0    -1.0  1.0  1.0 -1.0  0.0 -1.000000  \n",
      "1     0.0  1.0 -1.0 -1.0  0.5  0.111111  \n",
      "2    -1.0  1.0 -1.0  1.0  0.0 -1.000000  \n",
      "3    -1.0 -1.0 -1.0 -1.0  0.0 -1.000000  \n",
      "4    -1.0  1.0  1.0 -1.0  0.0 -1.000000  \n",
      "...   ...  ...  ...  ...  ...       ...  \n",
      "1473 -1.0 -1.0 -1.0 -1.0  0.0 -1.000000  \n",
      "1474  1.0 -1.0 -1.0 -1.0  0.0 -1.000000  \n",
      "1475 -1.0  1.0 -1.0 -1.0 -1.0 -1.000000  \n",
      "1476  1.0  1.0 -1.0 -1.0  0.0 -1.000000  \n",
      "1477 -1.0 -1.0 -1.0 -1.0  1.0 -1.000000  \n",
      "\n",
      "[1478 rows x 15 columns]\n"
     ]
    }
   ],
   "source": [
    "df_norm = minmax_scale(df, feature_range=(-1,1)) # Appliquer la fonction minmax_scale sur l'intervalle [-1,1]\n",
    "df_norm = pd.DataFrame(df_norm) # Convertir le tableau en DataFrame\n",
    "print(df_norm) # afficher le nouveau dataframe"
   ]
  },
  {
   "cell_type": "markdown",
   "id": "63b1b286",
   "metadata": {},
   "source": [
    "    La raison de l'applicaton de la normalisation sur notre dataset est l'utilisation de l'algorithme Support Vector Machine (SVM) qui est basé sur les distances, où il nécessite que toutes les caractéristiques soient sur la même échelle."
   ]
  },
  {
   "cell_type": "markdown",
   "id": "ce131113",
   "metadata": {},
   "source": [
    "* **Séparer les données en ensembles d'entraînement et de test**"
   ]
  },
  {
   "cell_type": "code",
   "execution_count": 16,
   "metadata": {},
   "outputs": [],
   "source": [
    "X = df_norm.drop([0], axis=1) # Nos features (Caractéristiques)\n",
    "y = df_norm[0] # Notre Objectif\n",
    "X_train, X_test, y_train, y_test = train_test_split(X, y, test_size = 0.3, random_state = 42) # La taille de l'échantillon du test est de 30 %"
   ]
  },
  {
   "cell_type": "markdown",
   "id": "e6f60f80",
   "metadata": {},
   "source": [
    "* **Standardiser les donnés à l’aide de StandardScaler()**"
   ]
  },
  {
   "cell_type": "markdown",
   "id": "c29accd7",
   "metadata": {},
   "source": [
    "La standarisation (ramener nos données à suivre une moyenne de zéro et un écart-type de un) se fait afin de maintenir la cohérence entre les données d'entraînement et de test lors de l'application de modèles d'apprentissage automatique, car ces modèles peuvent être sensibles à l'échelle des caractéristiques (features)."
   ]
  },
  {
   "cell_type": "code",
   "execution_count": 17,
   "id": "f131af60",
   "metadata": {},
   "outputs": [],
   "source": [
    "scaler = StandardScaler()\n",
    "X_train = pd.DataFrame(scaler.fit_transform(X_train), columns = X.columns) # Ajustement et transformation de X_train\n",
    "X_test = pd.DataFrame(scaler.transform(X_test)) # Transformation de X_test"
   ]
  },
  {
   "cell_type": "code",
   "execution_count": 18,
   "id": "9140dbec",
   "metadata": {},
   "outputs": [
    {
     "data": {
      "text/html": [
       "<div>\n",
       "<style scoped>\n",
       "    .dataframe tbody tr th:only-of-type {\n",
       "        vertical-align: middle;\n",
       "    }\n",
       "\n",
       "    .dataframe tbody tr th {\n",
       "        vertical-align: top;\n",
       "    }\n",
       "\n",
       "    .dataframe thead th {\n",
       "        text-align: right;\n",
       "    }\n",
       "</style>\n",
       "<table border=\"1\" class=\"dataframe\">\n",
       "  <thead>\n",
       "    <tr style=\"text-align: right;\">\n",
       "      <th></th>\n",
       "      <th>1</th>\n",
       "      <th>2</th>\n",
       "      <th>3</th>\n",
       "      <th>4</th>\n",
       "      <th>5</th>\n",
       "      <th>6</th>\n",
       "      <th>7</th>\n",
       "      <th>8</th>\n",
       "      <th>9</th>\n",
       "      <th>10</th>\n",
       "      <th>11</th>\n",
       "      <th>12</th>\n",
       "      <th>13</th>\n",
       "      <th>14</th>\n",
       "    </tr>\n",
       "  </thead>\n",
       "  <tbody>\n",
       "    <tr>\n",
       "      <th>0</th>\n",
       "      <td>-0.716555</td>\n",
       "      <td>-0.533459</td>\n",
       "      <td>0.731618</td>\n",
       "      <td>-0.666804</td>\n",
       "      <td>0.008504</td>\n",
       "      <td>0.831850</td>\n",
       "      <td>-1.244538</td>\n",
       "      <td>0.504568</td>\n",
       "      <td>-0.373483</td>\n",
       "      <td>0.669462</td>\n",
       "      <td>-0.325396</td>\n",
       "      <td>-0.218218</td>\n",
       "      <td>0.664901</td>\n",
       "      <td>-0.272654</td>\n",
       "    </tr>\n",
       "    <tr>\n",
       "      <th>1</th>\n",
       "      <td>1.451984</td>\n",
       "      <td>-0.533459</td>\n",
       "      <td>0.023291</td>\n",
       "      <td>-0.074217</td>\n",
       "      <td>-0.724233</td>\n",
       "      <td>-0.907549</td>\n",
       "      <td>-1.244538</td>\n",
       "      <td>-0.336921</td>\n",
       "      <td>-0.373483</td>\n",
       "      <td>0.669462</td>\n",
       "      <td>-0.325396</td>\n",
       "      <td>-0.218218</td>\n",
       "      <td>-0.103264</td>\n",
       "      <td>-0.272654</td>\n",
       "    </tr>\n",
       "    <tr>\n",
       "      <th>2</th>\n",
       "      <td>-1.439401</td>\n",
       "      <td>-0.533459</td>\n",
       "      <td>1.439945</td>\n",
       "      <td>-0.666804</td>\n",
       "      <td>0.008504</td>\n",
       "      <td>0.831850</td>\n",
       "      <td>-0.919903</td>\n",
       "      <td>-1.178409</td>\n",
       "      <td>-0.373483</td>\n",
       "      <td>0.669462</td>\n",
       "      <td>-0.325396</td>\n",
       "      <td>-0.218218</td>\n",
       "      <td>-0.871428</td>\n",
       "      <td>-0.272654</td>\n",
       "    </tr>\n",
       "    <tr>\n",
       "      <th>3</th>\n",
       "      <td>0.729138</td>\n",
       "      <td>-0.533459</td>\n",
       "      <td>-1.393362</td>\n",
       "      <td>-0.963097</td>\n",
       "      <td>1.473977</td>\n",
       "      <td>-0.907549</td>\n",
       "      <td>-1.244538</td>\n",
       "      <td>-0.336921</td>\n",
       "      <td>-0.373483</td>\n",
       "      <td>0.669462</td>\n",
       "      <td>-0.325396</td>\n",
       "      <td>-0.218218</td>\n",
       "      <td>0.664901</td>\n",
       "      <td>-0.272654</td>\n",
       "    </tr>\n",
       "    <tr>\n",
       "      <th>4</th>\n",
       "      <td>0.006292</td>\n",
       "      <td>-0.533459</td>\n",
       "      <td>-0.685036</td>\n",
       "      <td>-0.074217</td>\n",
       "      <td>-0.724233</td>\n",
       "      <td>-0.037850</td>\n",
       "      <td>1.027905</td>\n",
       "      <td>0.504568</td>\n",
       "      <td>-0.373483</td>\n",
       "      <td>-1.493737</td>\n",
       "      <td>-0.325396</td>\n",
       "      <td>-0.218218</td>\n",
       "      <td>-0.103264</td>\n",
       "      <td>-0.272654</td>\n",
       "    </tr>\n",
       "  </tbody>\n",
       "</table>\n",
       "</div>"
      ],
      "text/plain": [
       "         1         2         3         4         5         6         7   \\\n",
       "0 -0.716555 -0.533459  0.731618 -0.666804  0.008504  0.831850 -1.244538   \n",
       "1  1.451984 -0.533459  0.023291 -0.074217 -0.724233 -0.907549 -1.244538   \n",
       "2 -1.439401 -0.533459  1.439945 -0.666804  0.008504  0.831850 -0.919903   \n",
       "3  0.729138 -0.533459 -1.393362 -0.963097  1.473977 -0.907549 -1.244538   \n",
       "4  0.006292 -0.533459 -0.685036 -0.074217 -0.724233 -0.037850  1.027905   \n",
       "\n",
       "         8         9         10        11        12        13        14  \n",
       "0  0.504568 -0.373483  0.669462 -0.325396 -0.218218  0.664901 -0.272654  \n",
       "1 -0.336921 -0.373483  0.669462 -0.325396 -0.218218 -0.103264 -0.272654  \n",
       "2 -1.178409 -0.373483  0.669462 -0.325396 -0.218218 -0.871428 -0.272654  \n",
       "3 -0.336921 -0.373483  0.669462 -0.325396 -0.218218  0.664901 -0.272654  \n",
       "4  0.504568 -0.373483 -1.493737 -0.325396 -0.218218 -0.103264 -0.272654  "
      ]
     },
     "execution_count": 18,
     "metadata": {},
     "output_type": "execute_result"
    }
   ],
   "source": [
    "X_train.head() # Afficher les 5 premières lignes "
   ]
  },
  {
   "cell_type": "markdown",
   "id": "6a646ff8",
   "metadata": {},
   "source": [
    "### Modélisation (Application  des modèles d'apprentissage automatique)"
   ]
  },
  {
   "cell_type": "markdown",
   "id": "087538a0",
   "metadata": {},
   "source": [
    "### <font color=red> Support Vector Machine </font>"
   ]
  },
  {
   "cell_type": "markdown",
   "id": "a8a59e85",
   "metadata": {},
   "source": [
    "#### 2/ Construire le classifieur linéaire SVM correspondant pour C=[0.25, 1, 10, 1000]. Tracer la performance obtenue sur graphe.\n",
    "***"
   ]
  },
  {
   "cell_type": "code",
   "execution_count": 19,
   "id": "c001b113",
   "metadata": {},
   "outputs": [
    {
     "name": "stdout",
     "output_type": "stream",
     "text": [
      "         C  Accuracy  Precision    Recall  F1 Score   ROC AUC\n",
      "0     0.25  0.804054   0.688172  0.524590  0.595349  0.717264\n",
      "1     1.00  0.799550   0.673684  0.524590  0.589862  0.714158\n",
      "2    10.00  0.795045   0.663158  0.516393  0.580645  0.708507\n",
      "3  1000.00  0.795045   0.663158  0.516393  0.580645  0.708507\n"
     ]
    }
   ],
   "source": [
    "# Les valeurs de C à essayer\n",
    "C_values = [0.25, 1, 10, 1000]\n",
    "\n",
    "# Résultats des mesures de performance\n",
    "results = {\n",
    "    'C': [],\n",
    "    'Accuracy': [],\n",
    "    'Precision': [],\n",
    "    'Recall': [],\n",
    "    'F1 Score': [],\n",
    "    'ROC AUC': []\n",
    "}\n",
    "\n",
    "# Entraîner les classificateurs pour différentes valeurs de C\n",
    "for C in C_values:\n",
    "    svm_classifier = SVC(kernel='linear', C=C)\n",
    "    svm_classifier.fit(X_train, y_train)\n",
    "    y_pred = svm_classifier.predict(X_test)\n",
    "\n",
    "    results['C'].append(C)\n",
    "    results['Accuracy'].append(accuracy_score(y_test, y_pred))\n",
    "    results['Precision'].append(precision_score(y_test, y_pred))\n",
    "    results['Recall'].append(recall_score(y_test, y_pred))\n",
    "    results['F1 Score'].append(f1_score(y_test, y_pred))\n",
    "    results['ROC AUC'].append(roc_auc_score(y_test, y_pred))\n",
    "\n",
    "# Création du DataFrame Pandas\n",
    "df_results = pd.DataFrame(results)\n",
    "\n",
    "# Affichage du tableau\n",
    "print(df_results)"
   ]
  },
  {
   "cell_type": "code",
   "execution_count": 25,
   "id": "faf99df9",
   "metadata": {},
   "outputs": [
    {
     "data": {
      "image/png": "[encoded data removed]",
      "text/plain": [
       "<Figure size 640x480 with 1 Axes>"
      ]
     },
     "metadata": {},
     "output_type": "display_data"
    }
   ],
   "source": [
    "# Tracer la courbe ROC\n",
    "fpr, tpr, thresholds = roc_curve(y_test, y_pred)\n",
    "plt.plot(fpr, tpr)\n",
    "plt.plot([0, 1], [0, 1], linestyle=\"--\")\n",
    "plt.xlabel(\"Taux de faux positifs\")\n",
    "plt.ylabel(\"Taux de vrais positifs\")\n",
    "plt.title(\"Courbe ROC\")\n",
    "plt.show()"
   ]
  },
  {
   "cell_type": "markdown",
   "id": "d1c83882",
   "metadata": {},
   "source": [
    "* **Tracer la précision obtenue en fonction des valeurs de C sur un graphe**"
   ]
  },
  {
   "cell_type": "code",
   "execution_count": 26,
   "id": "039ef1d4",
   "metadata": {},
   "outputs": [
    {
     "data": {
      "image/png": "[encoded data removed]",
      "text/plain": [
       "<Figure size 800x600 with 1 Axes>"
      ]
     },
     "metadata": {},
     "output_type": "display_data"
    }
   ],
   "source": [
    "# Tracer la précision en fonction de C\n",
    "plt.figure(figsize=(8, 6))\n",
    "plt.plot(df_results['C'], df_results['Precision'], marker='o', color='#2F5972', linestyle='-')\n",
    "\n",
    "# Ajouter des titres et des légendes\n",
    "plt.title('Précision en fonction de la valeur de C')\n",
    "plt.xlabel('Valeur de C')\n",
    "plt.ylabel('Précision')\n",
    "plt.xscale('log')  # Pour mieux visualiser les valeurs de C sur une échelle logarithmique\n",
    "plt.grid(True)\n",
    "\n",
    "# Afficher le graphique\n",
    "plt.show()"
   ]
  },
  {
   "cell_type": "markdown",
   "id": "ab537550",
   "metadata": {},
   "source": [
    "#### 3/ Utiliser les noyaux Gaussien (RBF de largeur γ) et polynomial de degré p pour 3 valeurs de C et 3 autres valeurs pour chacun des paramètres. Représenter les résultats.  \n",
    "***"
   ]
  },
  {
   "cell_type": "markdown",
   "id": "3267b6ae",
   "metadata": {},
   "source": [
    "* **<font color=yellow>Gamma = 0.5, Degree = 3 et C = 0.25</font>**"
   ]
  },
  {
   "cell_type": "code",
   "execution_count": 30,
   "id": "ae7ed5d2",
   "metadata": {},
   "outputs": [],
   "source": [
    "rbf_1 = svm.SVC(kernel='rbf', gamma=0.5, C=0.25).fit(X_train, y_train)\n",
    "poly_1 = svm.SVC(kernel='poly', degree=3, C=0.25).fit(X_train, y_train)"
   ]
  },
  {
   "cell_type": "code",
   "execution_count": 85,
   "id": "fc1d91f1",
   "metadata": {},
   "outputs": [
    {
     "name": "stdout",
     "output_type": "stream",
     "text": [
      "Accuracy (Noyau Polynomial):  77.48\n",
      "F1 (Noyau Polynomial):  73.74\n",
      "Accuracy (NoyauRBF):  72.52\n",
      "F1 (Noyau RBF):  61.38\n"
     ]
    }
   ],
   "source": [
    "# Pour calculer l’efficacité des deux modèles, nous allons tester les deux classificateurs à l’aide de l’ensemble de données de test :\n",
    "poly_pred_1 = poly_1.predict(X_test)\n",
    "rbf_pred_1 = rbf_1.predict(X_test)\n",
    "\n",
    "# Enfin, nous calculerons la précision et le score-f1 pour SVM avec noyau polynomial :\n",
    "poly_accuracy_1 = accuracy_score(y_test, poly_pred_1)\n",
    "poly_f1_1 = f1_score(y_test, poly_pred_1, average='weighted')\n",
    "print('Accuracy (Noyau Polynomial): ', \"%.2f\" % (poly_accuracy_1*100))\n",
    "print('F1 (Noyau Polynomial): ', \"%.2f\" % (poly_f1_1*100))\n",
    "\n",
    "# De la même manière, la précision et le score-f1 pour SVM avec noyau RBF :\n",
    "rbf_accuracy_1 = accuracy_score(y_test, rbf_pred_1)\n",
    "rbf_f1_1 = f1_score(y_test, rbf_pred_1, average='weighted')\n",
    "print('Accuracy (NoyauRBF): ', \"%.2f\" % (rbf_accuracy_1*100))\n",
    "print('F1 (Noyau RBF): ', \"%.2f\" % (rbf_f1_1*100))"
   ]
  },
  {
   "cell_type": "markdown",
   "id": "a21ee26c",
   "metadata": {},
   "source": [
    "**Représentation graphiques des métriques de gamma = 0.5, degree = 3 et C = 0.25**"
   ]
  },
  {
   "cell_type": "code",
   "execution_count": 87,
   "id": "cf9759e7",
   "metadata": {},
   "outputs": [
    {
     "data": {
      "image/png": "[encoded data removed]",
      "text/plain": [
       "<Figure size 1000x500 with 2 Axes>"
      ]
     },
     "metadata": {},
     "output_type": "display_data"
    }
   ],
   "source": [
    "# Affectation des listes de variables \n",
    "titres = ['Noyau Polynomial', 'Noyau RBF']\n",
    "scores_accuracy_1 = [poly_accuracy_1, rbf_accuracy_1]\n",
    "scores_f1_1 = [poly_f1_1, rbf_f1_1]\n",
    "\n",
    "x = range(len(titres))\n",
    "\n",
    "# Representation graphique d'accuracy\n",
    "plt.figure(figsize=(10, 5))\n",
    "plt.subplot(1, 2, 1)\n",
    "plt.bar(x, scores_accuracy_1, color=['#2F5972', 'orange'])\n",
    "plt.xlabel('Type du Noyau')\n",
    "plt.ylabel('Accuracy')\n",
    "plt.title('Comparison des Accuracy')\n",
    "plt.xticks(x, titres)\n",
    "\n",
    "# Representation graphique de F1 score\n",
    "plt.subplot(1, 2, 2)\n",
    "plt.bar(x, scores_f1_1, color=['#2F5972', 'orange'])\n",
    "plt.xlabel('Type du Noyau')\n",
    "plt.ylabel('F1 Score')\n",
    "plt.title('Comparison des F1 Score')\n",
    "plt.xticks(x, titres)\n",
    "\n",
    "# Appel de plt.tight_layout() pour ajuster automatiquement l'espacement\n",
    "plt.tight_layout()\n",
    "# Affichage de la figure\n",
    "plt.show()\n"
   ]
  },
  {
   "cell_type": "markdown",
   "id": "e1dd1db0",
   "metadata": {},
   "source": [
    "* **<font color=yellow>Gamma = 1, Degree = 5 et C = 1</font>**"
   ]
  },
  {
   "cell_type": "code",
   "execution_count": 33,
   "id": "c73a4e11",
   "metadata": {},
   "outputs": [],
   "source": [
    "rbf_2 = svm.SVC(kernel='rbf', gamma=1, C=1).fit(X_train, y_train)\n",
    "poly_2 = svm.SVC(kernel='poly', degree=5, C=1).fit(X_train, y_train)"
   ]
  },
  {
   "cell_type": "code",
   "execution_count": 88,
   "id": "792875db",
   "metadata": {},
   "outputs": [
    {
     "name": "stdout",
     "output_type": "stream",
     "text": [
      "Accuracy (Polynomial Kernel):  77.03\n",
      "F1 (Polynomial Kernel):  74.12\n",
      "Accuracy (RBF Kernel):  74.10\n",
      "F1 (RBF Kernel):  67.25\n"
     ]
    }
   ],
   "source": [
    "poly_pred_2 = poly_2.predict(X_test)\n",
    "rbf_pred_2 = rbf_2.predict(X_test)\n",
    "\n",
    "poly_accuracy_2 = accuracy_score(y_test, poly_pred_2)\n",
    "poly_f1_2 = f1_score(y_test, poly_pred_2, average='weighted')\n",
    "print('Accuracy (Polynomial Kernel): ', \"%.2f\" % (poly_accuracy_2*100))\n",
    "print('F1 (Polynomial Kernel): ', \"%.2f\" % (poly_f1_2*100))\n",
    "\n",
    "rbf_accuracy_2 = accuracy_score(y_test, rbf_pred_2)\n",
    "rbf_f1_2 = f1_score(y_test, rbf_pred_2, average='weighted')\n",
    "print('Accuracy (RBF Kernel): ', \"%.2f\" % (rbf_accuracy_2*100))\n",
    "print('F1 (RBF Kernel): ', \"%.2f\" % (rbf_f1_2*100))"
   ]
  },
  {
   "cell_type": "markdown",
   "id": "0c9f49c1",
   "metadata": {},
   "source": [
    "**Représentation graphiques des métriques de gamma = 1, degree = 5 et C = 1**"
   ]
  },
  {
   "cell_type": "code",
   "execution_count": 89,
   "id": "9cb384fd",
   "metadata": {},
   "outputs": [
    {
     "data": {
      "image/png": "[encoded data removed]",
      "text/plain": [
       "<Figure size 1000x500 with 2 Axes>"
      ]
     },
     "metadata": {},
     "output_type": "display_data"
    }
   ],
   "source": [
    "# Affectation des listes de variables \n",
    "titres = ['Noyau Polynomial', 'Noyau RBF']\n",
    "scores_accuracy_2 = [poly_accuracy_2, rbf_accuracy_2]\n",
    "scores_f1_2 = [poly_f1_2, rbf_f1_2]\n",
    "\n",
    "x = range(len(titres))\n",
    "\n",
    "# Representation graphique d'accuracy\n",
    "plt.figure(figsize=(10, 5))\n",
    "plt.subplot(1, 2, 1)\n",
    "plt.bar(x, scores_accuracy_2, color=['#2F5972', 'orange'])\n",
    "plt.xlabel('Type du Noyau')\n",
    "plt.ylabel('Accuracy')\n",
    "plt.title('Comparison des Accuracy')\n",
    "plt.xticks(x, titres)\n",
    "\n",
    "# Representation graphique de F1 score\n",
    "plt.subplot(1, 2, 2)\n",
    "plt.bar(x, scores_f1_2, color=['#2F5972', 'orange'])\n",
    "plt.xlabel('Type du Noyau')\n",
    "plt.ylabel('F1 Score')\n",
    "plt.title('Comparison des F1 Score')\n",
    "plt.xticks(x, titres)\n",
    "\n",
    "# Appel de plt.tight_layout() pour ajuster automatiquement l'espacement\n",
    "plt.tight_layout()\n",
    "# Affichage de la figure\n",
    "plt.show()"
   ]
  },
  {
   "cell_type": "markdown",
   "id": "fdb4240e",
   "metadata": {},
   "source": [
    "* **<font color=yellow>Gamma = 3, Degree = 9 et C = 10</font>**"
   ]
  },
  {
   "cell_type": "code",
   "execution_count": 36,
   "id": "f96191fc",
   "metadata": {},
   "outputs": [],
   "source": [
    "rbf_3 = svm.SVC(kernel='rbf', gamma=3, C=10).fit(X_train, y_train)\n",
    "poly_3 = svm.SVC(kernel='poly', degree=9, C=10).fit(X_train, y_train)"
   ]
  },
  {
   "cell_type": "code",
   "execution_count": 90,
   "id": "fe75cf60",
   "metadata": {},
   "outputs": [
    {
     "name": "stdout",
     "output_type": "stream",
     "text": [
      "Accuracy (Polynomial Kernel):  75.45\n",
      "F1 (Polynomial Kernel):  72.98\n",
      "Accuracy (RBF Kernel):  73.42\n",
      "F1 (RBF Kernel):  64.45\n"
     ]
    }
   ],
   "source": [
    "poly_pred_3 = poly_3.predict(X_test)\n",
    "rbf_pred_3 = rbf_3.predict(X_test)\n",
    "\n",
    "poly_accuracy_3 = accuracy_score(y_test, poly_pred_3)\n",
    "poly_f1_3 = f1_score(y_test, poly_pred_3, average='weighted')\n",
    "print('Accuracy (Polynomial Kernel): ', \"%.2f\" % (poly_accuracy_3*100))\n",
    "print('F1 (Polynomial Kernel): ', \"%.2f\" % (poly_f1_3*100))\n",
    "\n",
    "rbf_accuracy_3 = accuracy_score(y_test, rbf_pred_3)\n",
    "rbf_f1_3 = f1_score(y_test, rbf_pred_3, average='weighted')\n",
    "print('Accuracy (RBF Kernel): ', \"%.2f\" % (rbf_accuracy_3*100))\n",
    "print('F1 (RBF Kernel): ', \"%.2f\" % (rbf_f1_3*100))"
   ]
  },
  {
   "cell_type": "markdown",
   "id": "e1915a50",
   "metadata": {},
   "source": [
    "**Représentation graphiques des métriques avec: gamma = 3, degree = 9 et C = 10**"
   ]
  },
  {
   "cell_type": "code",
   "execution_count": 91,
   "id": "cd10c494",
   "metadata": {},
   "outputs": [
    {
     "data": {
      "image/png": "[encoded data removed]",
      "text/plain": [
       "<Figure size 1000x500 with 2 Axes>"
      ]
     },
     "metadata": {},
     "output_type": "display_data"
    }
   ],
   "source": [
    "# Affectation des listes de variables \n",
    "titres = ['Noyau Polynomial', 'Noyau RBF']\n",
    "scores_accuracy_3 = [poly_accuracy_3, rbf_accuracy_3]\n",
    "scores_f1_3 = [poly_f1_3, rbf_f1_3]\n",
    "\n",
    "x = range(len(titres))\n",
    "\n",
    "# Representation graphique d'accuracy\n",
    "plt.figure(figsize=(10, 5))\n",
    "plt.subplot(1, 2, 1)\n",
    "plt.bar(x, scores_accuracy_3, color=['#2F5972', 'orange'])\n",
    "plt.xlabel('Type du Noyau')\n",
    "plt.ylabel('Accuracy')\n",
    "plt.title('Comparison des Accuracy')\n",
    "plt.xticks(x, titres)\n",
    "\n",
    "# Representation graphique de F1 score\n",
    "plt.subplot(1, 2, 2)\n",
    "plt.bar(x, scores_f1_3, color=['#2F5972', 'orange'])\n",
    "plt.xlabel('Type du Noyau')\n",
    "plt.ylabel('F1 Score')\n",
    "plt.title('Comparison des F1 Score')\n",
    "plt.xticks(x, titres)\n",
    "\n",
    "# Appel de plt.tight_layout() pour ajuster automatiquement l'espacement\n",
    "plt.tight_layout()\n",
    "# Affichage de la figure\n",
    "plt.show()"
   ]
  },
  {
   "cell_type": "markdown",
   "id": "05028540",
   "metadata": {},
   "source": [
    "### <font color=pink>Résumé</font>"
   ]
  },
  {
   "cell_type": "code",
   "execution_count": 39,
   "id": "cf91add0",
   "metadata": {},
   "outputs": [
    {
     "name": "stdout",
     "output_type": "stream",
     "text": [
      "       Kernel  Degree  Gamma      C  Accuracy  F1 Score\n",
      "0         RBF     NaN    0.5   0.25  0.725225  0.613849\n",
      "1         RBF     NaN    1.0   1.00  0.740991  0.672488\n",
      "2         RBF     NaN    3.0  10.00  0.734234  0.644537\n",
      "3  Polynomial     3.0    NaN   0.25  0.774775  0.737361\n",
      "4  Polynomial     5.0    NaN   1.00  0.770270  0.741228\n",
      "5  Polynomial     9.0    NaN  10.00  0.754505  0.729777\n"
     ]
    }
   ],
   "source": [
    "# Paramètres des modèles\n",
    "models_params = [\n",
    "    {'kernel': 'rbf', 'gamma': 0.5, 'C': 0.25},\n",
    "    {'kernel': 'rbf', 'gamma': 1, 'C': 1},\n",
    "    {'kernel': 'rbf', 'gamma': 3, 'C': 10},\n",
    "    {'kernel': 'poly', 'degree': 3, 'C': 0.25},\n",
    "    {'kernel': 'poly', 'degree': 5, 'C': 1},\n",
    "    {'kernel': 'poly', 'degree': 9, 'C': 10}\n",
    "]\n",
    "\n",
    "# Stockage des résultats\n",
    "results = []\n",
    "\n",
    "# Boucle sur les paramètres des modèles\n",
    "for params in models_params:\n",
    "    model = SVC(**params).fit(X_train, y_train)\n",
    "    y_pred = model.predict(X_test)\n",
    "\n",
    "    accuracy = accuracy_score(y_test, y_pred)\n",
    "    f1 = f1_score(y_test, y_pred, average='weighted')\n",
    "\n",
    "    kernel_type = 'Polynomial' if 'poly' in params['kernel'] else 'RBF'\n",
    "    \n",
    "    results.append({\n",
    "        'Kernel': kernel_type,\n",
    "        'Degree': params.get('degree', None),\n",
    "        'Gamma': params.get('gamma', None),\n",
    "        'C': params['C'],\n",
    "        'Accuracy': accuracy,\n",
    "        'F1 Score': f1\n",
    "    })\n",
    "\n",
    "# Création du DataFrame Pandas\n",
    "df_results = pd.DataFrame(results)\n",
    "\n",
    "# Affichage du tableau\n",
    "print(df_results)"
   ]
  },
  {
   "cell_type": "markdown",
   "id": "3948be13",
   "metadata": {},
   "source": [
    "#### 4/ 1. Recherche du meilleur modèle pour les trois noyaux, et ce en utilisant la validation croisée sur l’échantillon d’apprentissage \n",
    "***\n"
   ]
  },
  {
   "cell_type": "code",
   "execution_count": 20,
   "metadata": {},
   "outputs": [
    {
     "name": "stdout",
     "output_type": "stream",
     "text": [
      "Meilleurs hyperparamètres pour SVM avec noyau linear: {'C': 0.25}\n",
      "Précision sur l'ensemble de test pour SVM avec noyau linear est à: 0.786036036036036\n",
      "Meilleurs hyperparamètres pour SVM avec noyau poly: {'C': 0.25, 'degree': 3}\n",
      "Précision sur l'ensemble de test pour SVM avec noyau poly est à: 0.786036036036036\n",
      "Meilleurs hyperparamètres pour SVM avec noyau rbf: {'C': 1, 'gamma': 0.5}\n",
      "Précision sur l'ensemble de test pour SVM avec noyau rbf est à: 0.759009009009009\n"
     ]
    }
   ],
   "source": [
    "# Initialiser le modèle SVM\n",
    "svm_model = SVC()\n",
    "\n",
    "# Définir les grilles d'hyperparamètres pour chaque noyau\n",
    "param_grids = {\n",
    "    'linear': {'C': [0.25, 1, 10]},\n",
    "    'poly': {'C': [0.25, 1, 10], 'degree': [3, 5, 9]},\n",
    "    'rbf': {'C': [0.25, 1, 10], 'gamma': [0.5, 1, 3]}\n",
    "}\n",
    "\n",
    "# Créer scorer qui se réfère à l'Accuracy pour évaluer la performance du modèle\n",
    "scorer = {'accuracy': make_scorer(accuracy_score)}\n",
    "\n",
    "# Utiliser GridSearchCV pour chaque noyau\n",
    "for kernel, param_grid in param_grids.items():\n",
    "    grid_search = GridSearchCV(svm_model, param_grid, cv=5, scoring=scorer, refit='accuracy')\n",
    "    grid_search.fit(X_train, y_train)\n",
    "\n",
    "    # Afficher les meilleurs hyperparamètres trouvés\n",
    "    print(f\"Meilleurs hyperparamètres pour SVM avec noyau {kernel}: {grid_search.best_params_}\")\n",
    "\n",
    "    # Obtenir le meilleur modèle entraîné\n",
    "    meilleur_model = grid_search.best_estimator_\n",
    "\n",
    "    # Prédire sur l'ensemble de validation\n",
    "    y_test_pred = meilleur_model.predict(X_test)\n",
    "\n",
    "    # Évaluer la performance sur l'ensemble de validation\n",
    "    accuracy_test = accuracy_score(y_test, y_test_pred)\n",
    "    print(f\"Précision sur l'ensemble de test pour SVM avec noyau {kernel} est à: {accuracy_test}\")\n"
   ]
  },
  {
   "cell_type": "markdown",
   "id": "22d70dfd",
   "metadata": {},
   "source": [
    "### <font color=pink>Résultat</font>"
   ]
  },
  {
   "cell_type": "markdown",
   "id": "d3b1f08c",
   "metadata": {},
   "source": [
    "* Le meilleur paramètre de régularisation C pour le modèle SVM avec noyau linéaire est 0.25. Le paramètre C contrôle la régularisation du modèle, où de plus grandes valeurs de C indiquent une régularisation plus faible, et sa précision sur l'ensemble de test pour SVM avec noyau linéaire est à: 78.6 %\n",
    "\n",
    "* Les meilleurs hyperparamètres pour le modèle SVM avec noyau polynomial sont C=0.25 et degré=3. En plus du paramètre C, le noyau polynomial a également un paramètre de degré, qui contrôle le degré du polynôme à utiliser. De plus, la précision du modèle SVM avec noyau polynomial, lorsqu'elle est évaluée sur l'ensemble de test, est également de 0.786 (ou environ 78.6%).\n",
    "\n",
    "* Les meilleurs hyperparamètres pour le modèle SVM avec noyau RBF (gaussien) sont C=1 et gamma=0.5. Le paramètre gamma contrôle la flexibilité du modèle, où de plus grandes valeurs de gamma permettent au modèle de s'ajuster plus étroitement aux données d'entraînement. Et, la précision lorsqu'elle est évaluée sur l'ensemble de test, est de 0.759 (ou environ 75.9%)."
   ]
  },
  {
   "cell_type": "markdown",
   "id": "3e9f81ce",
   "metadata": {},
   "source": [
    "#### 4/ 2. Rechercher le meilleur modèle pour les trois noyaux en utilisant la validation croisée sur l’échantillon de test \"a1a_test\"\n",
    "***"
   ]
  },
  {
   "cell_type": "markdown",
   "id": "cb720dcf",
   "metadata": {},
   "source": [
    "* **Redéfinir nos échantillons d’apprentissage et de test avec le dataset *a1a_test***\n"
   ]
  },
  {
   "cell_type": "code",
   "execution_count": 41,
   "id": "3eb2b06a",
   "metadata": {},
   "outputs": [
    {
     "name": "stdout",
     "output_type": "stream",
     "text": [
      "<class 'pandas.core.frame.DataFrame'>\n",
      "RangeIndex: 30957 entries, 0 to 30956\n",
      "Data columns (total 16 columns):\n",
      " #   Column  Non-Null Count  Dtype \n",
      "---  ------  --------------  ----- \n",
      " 0   0       30957 non-null  object\n",
      " 1   1       30956 non-null  object\n",
      " 2   2       30956 non-null  object\n",
      " 3   3       30956 non-null  object\n",
      " 4   4       30956 non-null  object\n",
      " 5   5       30956 non-null  object\n",
      " 6   6       30956 non-null  object\n",
      " 7   7       30956 non-null  object\n",
      " 8   8       30956 non-null  object\n",
      " 9   9       30956 non-null  object\n",
      " 10  10      30956 non-null  object\n",
      " 11  11      30956 non-null  object\n",
      " 12  12      30956 non-null  object\n",
      " 13  13      30929 non-null  object\n",
      " 14  14      29214 non-null  object\n",
      " 15  15      28684 non-null  object\n",
      "dtypes: object(16)\n",
      "memory usage: 3.8+ MB\n"
     ]
    }
   ],
   "source": [
    "# Ouvrir le dataset du \"a1a_test\"\n",
    "with open('C:/Users/mon/Desktop/Inbox/Studies/Apprentissage statistique/a1a_test.libsvm') as file_object:\n",
    "    data_test = file_object.read()\n",
    "\n",
    "rows = data_test.split('\\n')  # Fractionner les données par le caractères de saut de ligne (\\n)\n",
    "columns_t = [row.split(' ') for row in rows]  # Fractionner chaque ligne par colonnes\n",
    "columns_t = [row for row in columns_t if row]  \n",
    "\n",
    "# Créer un nouveau dataframe\n",
    "df2 = pd.DataFrame(columns_t)\n",
    "df2.info()"
   ]
  },
  {
   "cell_type": "code",
   "execution_count": 42,
   "id": "03ba8124",
   "metadata": {},
   "outputs": [
    {
     "data": {
      "text/plain": [
       "0     0\n",
       "1     0\n",
       "2     0\n",
       "3     0\n",
       "4     0\n",
       "5     0\n",
       "6     0\n",
       "7     0\n",
       "8     0\n",
       "9     0\n",
       "10    0\n",
       "11    0\n",
       "12    0\n",
       "13    0\n",
       "14    0\n",
       "15    0\n",
       "dtype: int64"
      ]
     },
     "execution_count": 42,
     "metadata": {},
     "output_type": "execute_result"
    }
   ],
   "source": [
    "# Supprimer les valeurs manquantes\n",
    "df2=df2.dropna()\n",
    "df2.isnull().sum()"
   ]
  },
  {
   "cell_type": "code",
   "execution_count": 43,
   "id": "faa6d80f",
   "metadata": {},
   "outputs": [],
   "source": [
    "# Supprimer la colonne 15 car elle a plus de 2272 valeurs manquantes  \n",
    "df2.drop([15], axis=1, inplace=True)"
   ]
  },
  {
   "cell_type": "code",
   "execution_count": 44,
   "id": "d98edd43",
   "metadata": {},
   "outputs": [
    {
     "data": {
      "text/html": [
       "<div>\n",
       "<style scoped>\n",
       "    .dataframe tbody tr th:only-of-type {\n",
       "        vertical-align: middle;\n",
       "    }\n",
       "\n",
       "    .dataframe tbody tr th {\n",
       "        vertical-align: top;\n",
       "    }\n",
       "\n",
       "    .dataframe thead th {\n",
       "        text-align: right;\n",
       "    }\n",
       "</style>\n",
       "<table border=\"1\" class=\"dataframe\">\n",
       "  <thead>\n",
       "    <tr style=\"text-align: right;\">\n",
       "      <th></th>\n",
       "      <th>A</th>\n",
       "      <th>B</th>\n",
       "      <th>C</th>\n",
       "      <th>D</th>\n",
       "      <th>E</th>\n",
       "      <th>F</th>\n",
       "      <th>G</th>\n",
       "      <th>H</th>\n",
       "      <th>I</th>\n",
       "      <th>J</th>\n",
       "      <th>K</th>\n",
       "      <th>L</th>\n",
       "      <th>M</th>\n",
       "      <th>N</th>\n",
       "      <th>O</th>\n",
       "    </tr>\n",
       "  </thead>\n",
       "  <tbody>\n",
       "    <tr>\n",
       "      <th>0</th>\n",
       "      <td>-1</td>\n",
       "      <td>3.1</td>\n",
       "      <td>11.1</td>\n",
       "      <td>14.1</td>\n",
       "      <td>19.1</td>\n",
       "      <td>39.1</td>\n",
       "      <td>42.1</td>\n",
       "      <td>55.1</td>\n",
       "      <td>64.1</td>\n",
       "      <td>67.1</td>\n",
       "      <td>73.1</td>\n",
       "      <td>75.1</td>\n",
       "      <td>76.1</td>\n",
       "      <td>80.1</td>\n",
       "      <td>83.1</td>\n",
       "    </tr>\n",
       "    <tr>\n",
       "      <th>1</th>\n",
       "      <td>-1</td>\n",
       "      <td>3.1</td>\n",
       "      <td>6.1</td>\n",
       "      <td>17.1</td>\n",
       "      <td>27.1</td>\n",
       "      <td>35.1</td>\n",
       "      <td>40.1</td>\n",
       "      <td>57.1</td>\n",
       "      <td>63.1</td>\n",
       "      <td>69.1</td>\n",
       "      <td>73.1</td>\n",
       "      <td>74.1</td>\n",
       "      <td>76.1</td>\n",
       "      <td>81.1</td>\n",
       "      <td>103.1</td>\n",
       "    </tr>\n",
       "    <tr>\n",
       "      <th>2</th>\n",
       "      <td>-1</td>\n",
       "      <td>4.1</td>\n",
       "      <td>6.1</td>\n",
       "      <td>15.1</td>\n",
       "      <td>21.1</td>\n",
       "      <td>35.1</td>\n",
       "      <td>40.1</td>\n",
       "      <td>57.1</td>\n",
       "      <td>63.1</td>\n",
       "      <td>67.1</td>\n",
       "      <td>73.1</td>\n",
       "      <td>74.1</td>\n",
       "      <td>77.1</td>\n",
       "      <td>80.1</td>\n",
       "      <td>83.1</td>\n",
       "    </tr>\n",
       "    <tr>\n",
       "      <th>3</th>\n",
       "      <td>-1</td>\n",
       "      <td>5.1</td>\n",
       "      <td>6.1</td>\n",
       "      <td>15.1</td>\n",
       "      <td>22.1</td>\n",
       "      <td>36.1</td>\n",
       "      <td>41.1</td>\n",
       "      <td>47.1</td>\n",
       "      <td>66.1</td>\n",
       "      <td>67.1</td>\n",
       "      <td>72.1</td>\n",
       "      <td>74.1</td>\n",
       "      <td>76.1</td>\n",
       "      <td>80.1</td>\n",
       "      <td>83.1</td>\n",
       "    </tr>\n",
       "    <tr>\n",
       "      <th>4</th>\n",
       "      <td>-1</td>\n",
       "      <td>2.1</td>\n",
       "      <td>6.1</td>\n",
       "      <td>16.1</td>\n",
       "      <td>22.1</td>\n",
       "      <td>36.1</td>\n",
       "      <td>40.1</td>\n",
       "      <td>54.1</td>\n",
       "      <td>63.1</td>\n",
       "      <td>67.1</td>\n",
       "      <td>73.1</td>\n",
       "      <td>75.1</td>\n",
       "      <td>76.1</td>\n",
       "      <td>80.1</td>\n",
       "      <td>83.1</td>\n",
       "    </tr>\n",
       "  </tbody>\n",
       "</table>\n",
       "</div>"
      ],
      "text/plain": [
       "    A    B     C     D     E     F     G     H     I     J     K     L     M  \\\n",
       "0  -1  3.1  11.1  14.1  19.1  39.1  42.1  55.1  64.1  67.1  73.1  75.1  76.1   \n",
       "1  -1  3.1   6.1  17.1  27.1  35.1  40.1  57.1  63.1  69.1  73.1  74.1  76.1   \n",
       "2  -1  4.1   6.1  15.1  21.1  35.1  40.1  57.1  63.1  67.1  73.1  74.1  77.1   \n",
       "3  -1  5.1   6.1  15.1  22.1  36.1  41.1  47.1  66.1  67.1  72.1  74.1  76.1   \n",
       "4  -1  2.1   6.1  16.1  22.1  36.1  40.1  54.1  63.1  67.1  73.1  75.1  76.1   \n",
       "\n",
       "      N      O  \n",
       "0  80.1   83.1  \n",
       "1  81.1  103.1  \n",
       "2  80.1   83.1  \n",
       "3  80.1   83.1  \n",
       "4  80.1   83.1  "
      ]
     },
     "execution_count": 44,
     "metadata": {},
     "output_type": "execute_result"
    }
   ],
   "source": [
    "# Remplacer les deux-points par des points dans toutes les colonnes du DataFrame\n",
    "df2 = df2.replace(':', '.', regex=True) \n",
    "df.head()"
   ]
  },
  {
   "cell_type": "code",
   "execution_count": 45,
   "id": "15c0c626",
   "metadata": {},
   "outputs": [
    {
     "data": {
      "text/html": [
       "<div>\n",
       "<style scoped>\n",
       "    .dataframe tbody tr th:only-of-type {\n",
       "        vertical-align: middle;\n",
       "    }\n",
       "\n",
       "    .dataframe tbody tr th {\n",
       "        vertical-align: top;\n",
       "    }\n",
       "\n",
       "    .dataframe thead th {\n",
       "        text-align: right;\n",
       "    }\n",
       "</style>\n",
       "<table border=\"1\" class=\"dataframe\">\n",
       "  <thead>\n",
       "    <tr style=\"text-align: right;\">\n",
       "      <th></th>\n",
       "      <th>1</th>\n",
       "      <th>2</th>\n",
       "      <th>3</th>\n",
       "      <th>4</th>\n",
       "      <th>5</th>\n",
       "      <th>6</th>\n",
       "      <th>7</th>\n",
       "      <th>8</th>\n",
       "      <th>9</th>\n",
       "      <th>10</th>\n",
       "      <th>11</th>\n",
       "      <th>12</th>\n",
       "      <th>13</th>\n",
       "      <th>14</th>\n",
       "      <th>objectif</th>\n",
       "    </tr>\n",
       "  </thead>\n",
       "  <tbody>\n",
       "    <tr>\n",
       "      <th>0</th>\n",
       "      <td>5.1</td>\n",
       "      <td>7.1</td>\n",
       "      <td>14.1</td>\n",
       "      <td>19.1</td>\n",
       "      <td>39.1</td>\n",
       "      <td>40.1</td>\n",
       "      <td>51.1</td>\n",
       "      <td>63.1</td>\n",
       "      <td>67.1</td>\n",
       "      <td>73.1</td>\n",
       "      <td>74.1</td>\n",
       "      <td>76.1</td>\n",
       "      <td>78.1</td>\n",
       "      <td>83.1</td>\n",
       "      <td>-1</td>\n",
       "    </tr>\n",
       "    <tr>\n",
       "      <th>1</th>\n",
       "      <td>3.1</td>\n",
       "      <td>6.1</td>\n",
       "      <td>17.1</td>\n",
       "      <td>22.1</td>\n",
       "      <td>36.1</td>\n",
       "      <td>41.1</td>\n",
       "      <td>53.1</td>\n",
       "      <td>64.1</td>\n",
       "      <td>67.1</td>\n",
       "      <td>73.1</td>\n",
       "      <td>74.1</td>\n",
       "      <td>76.1</td>\n",
       "      <td>80.1</td>\n",
       "      <td>83.1</td>\n",
       "      <td>-1</td>\n",
       "    </tr>\n",
       "    <tr>\n",
       "      <th>2</th>\n",
       "      <td>5.1</td>\n",
       "      <td>6.1</td>\n",
       "      <td>17.1</td>\n",
       "      <td>21.1</td>\n",
       "      <td>35.1</td>\n",
       "      <td>40.1</td>\n",
       "      <td>53.1</td>\n",
       "      <td>63.1</td>\n",
       "      <td>71.1</td>\n",
       "      <td>73.1</td>\n",
       "      <td>74.1</td>\n",
       "      <td>76.1</td>\n",
       "      <td>80.1</td>\n",
       "      <td>83.1</td>\n",
       "      <td>-1</td>\n",
       "    </tr>\n",
       "    <tr>\n",
       "      <th>3</th>\n",
       "      <td>2.1</td>\n",
       "      <td>6.1</td>\n",
       "      <td>18.1</td>\n",
       "      <td>19.1</td>\n",
       "      <td>39.1</td>\n",
       "      <td>40.1</td>\n",
       "      <td>52.1</td>\n",
       "      <td>61.1</td>\n",
       "      <td>71.1</td>\n",
       "      <td>72.1</td>\n",
       "      <td>74.1</td>\n",
       "      <td>76.1</td>\n",
       "      <td>80.1</td>\n",
       "      <td>95.1</td>\n",
       "      <td>-1</td>\n",
       "    </tr>\n",
       "    <tr>\n",
       "      <th>4</th>\n",
       "      <td>3.1</td>\n",
       "      <td>6.1</td>\n",
       "      <td>18.1</td>\n",
       "      <td>29.1</td>\n",
       "      <td>39.1</td>\n",
       "      <td>40.1</td>\n",
       "      <td>51.1</td>\n",
       "      <td>61.1</td>\n",
       "      <td>67.1</td>\n",
       "      <td>72.1</td>\n",
       "      <td>74.1</td>\n",
       "      <td>76.1</td>\n",
       "      <td>80.1</td>\n",
       "      <td>83.1</td>\n",
       "      <td>-1</td>\n",
       "    </tr>\n",
       "  </tbody>\n",
       "</table>\n",
       "</div>"
      ],
      "text/plain": [
       "     1    2     3     4     5     6     7     8     9    10    11    12    13  \\\n",
       "0  5.1  7.1  14.1  19.1  39.1  40.1  51.1  63.1  67.1  73.1  74.1  76.1  78.1   \n",
       "1  3.1  6.1  17.1  22.1  36.1  41.1  53.1  64.1  67.1  73.1  74.1  76.1  80.1   \n",
       "2  5.1  6.1  17.1  21.1  35.1  40.1  53.1  63.1  71.1  73.1  74.1  76.1  80.1   \n",
       "3  2.1  6.1  18.1  19.1  39.1  40.1  52.1  61.1  71.1  72.1  74.1  76.1  80.1   \n",
       "4  3.1  6.1  18.1  29.1  39.1  40.1  51.1  61.1  67.1  72.1  74.1  76.1  80.1   \n",
       "\n",
       "     14 objectif  \n",
       "0  83.1       -1  \n",
       "1  83.1       -1  \n",
       "2  83.1       -1  \n",
       "3  95.1       -1  \n",
       "4  83.1       -1  "
      ]
     },
     "execution_count": 45,
     "metadata": {},
     "output_type": "execute_result"
    }
   ],
   "source": [
    "# Renommer la colonne [0], qui est notre objectif ((<50 k = -1 )et (>50k = 1))\n",
    "df2['objectif'] = df2[0]\n",
    "df2.drop([0], axis=1, inplace=True)\n",
    "\n",
    "# Définir nos échantillons de train et de test\n",
    "X_t = df2.drop(['objectif'], axis=1)\n",
    "y_t = df2['objectif']\n",
    "X_train_t, X_test_t, y_train_t, y_test_t = train_test_split(X_t, y_t, test_size=0.3, random_state=42)\n",
    "\n",
    "df2.head()"
   ]
  },
  {
   "cell_type": "code",
   "execution_count": 46,
   "id": "16f2d8f0",
   "metadata": {},
   "outputs": [
    {
     "data": {
      "text/html": [
       "<div>\n",
       "<style scoped>\n",
       "    .dataframe tbody tr th:only-of-type {\n",
       "        vertical-align: middle;\n",
       "    }\n",
       "\n",
       "    .dataframe tbody tr th {\n",
       "        vertical-align: top;\n",
       "    }\n",
       "\n",
       "    .dataframe thead th {\n",
       "        text-align: right;\n",
       "    }\n",
       "</style>\n",
       "<table border=\"1\" class=\"dataframe\">\n",
       "  <thead>\n",
       "    <tr style=\"text-align: right;\">\n",
       "      <th></th>\n",
       "      <th>1</th>\n",
       "      <th>2</th>\n",
       "      <th>3</th>\n",
       "      <th>4</th>\n",
       "      <th>5</th>\n",
       "      <th>6</th>\n",
       "      <th>7</th>\n",
       "      <th>8</th>\n",
       "      <th>9</th>\n",
       "      <th>10</th>\n",
       "      <th>11</th>\n",
       "      <th>12</th>\n",
       "      <th>13</th>\n",
       "      <th>14</th>\n",
       "      <th>objectif</th>\n",
       "    </tr>\n",
       "  </thead>\n",
       "  <tbody>\n",
       "    <tr>\n",
       "      <th>0</th>\n",
       "      <td>5.1</td>\n",
       "      <td>7.1</td>\n",
       "      <td>14.1</td>\n",
       "      <td>19.1</td>\n",
       "      <td>39.1</td>\n",
       "      <td>40.1</td>\n",
       "      <td>51.1</td>\n",
       "      <td>63.1</td>\n",
       "      <td>67.1</td>\n",
       "      <td>73.1</td>\n",
       "      <td>74.1</td>\n",
       "      <td>76.1</td>\n",
       "      <td>78.1</td>\n",
       "      <td>83.1</td>\n",
       "      <td>-1</td>\n",
       "    </tr>\n",
       "    <tr>\n",
       "      <th>1</th>\n",
       "      <td>3.1</td>\n",
       "      <td>6.1</td>\n",
       "      <td>17.1</td>\n",
       "      <td>22.1</td>\n",
       "      <td>36.1</td>\n",
       "      <td>41.1</td>\n",
       "      <td>53.1</td>\n",
       "      <td>64.1</td>\n",
       "      <td>67.1</td>\n",
       "      <td>73.1</td>\n",
       "      <td>74.1</td>\n",
       "      <td>76.1</td>\n",
       "      <td>80.1</td>\n",
       "      <td>83.1</td>\n",
       "      <td>-1</td>\n",
       "    </tr>\n",
       "    <tr>\n",
       "      <th>2</th>\n",
       "      <td>5.1</td>\n",
       "      <td>6.1</td>\n",
       "      <td>17.1</td>\n",
       "      <td>21.1</td>\n",
       "      <td>35.1</td>\n",
       "      <td>40.1</td>\n",
       "      <td>53.1</td>\n",
       "      <td>63.1</td>\n",
       "      <td>71.1</td>\n",
       "      <td>73.1</td>\n",
       "      <td>74.1</td>\n",
       "      <td>76.1</td>\n",
       "      <td>80.1</td>\n",
       "      <td>83.1</td>\n",
       "      <td>-1</td>\n",
       "    </tr>\n",
       "    <tr>\n",
       "      <th>3</th>\n",
       "      <td>2.1</td>\n",
       "      <td>6.1</td>\n",
       "      <td>18.1</td>\n",
       "      <td>19.1</td>\n",
       "      <td>39.1</td>\n",
       "      <td>40.1</td>\n",
       "      <td>52.1</td>\n",
       "      <td>61.1</td>\n",
       "      <td>71.1</td>\n",
       "      <td>72.1</td>\n",
       "      <td>74.1</td>\n",
       "      <td>76.1</td>\n",
       "      <td>80.1</td>\n",
       "      <td>95.1</td>\n",
       "      <td>-1</td>\n",
       "    </tr>\n",
       "    <tr>\n",
       "      <th>4</th>\n",
       "      <td>3.1</td>\n",
       "      <td>6.1</td>\n",
       "      <td>18.1</td>\n",
       "      <td>29.1</td>\n",
       "      <td>39.1</td>\n",
       "      <td>40.1</td>\n",
       "      <td>51.1</td>\n",
       "      <td>61.1</td>\n",
       "      <td>67.1</td>\n",
       "      <td>72.1</td>\n",
       "      <td>74.1</td>\n",
       "      <td>76.1</td>\n",
       "      <td>80.1</td>\n",
       "      <td>83.1</td>\n",
       "      <td>-1</td>\n",
       "    </tr>\n",
       "  </tbody>\n",
       "</table>\n",
       "</div>"
      ],
      "text/plain": [
       "     1    2     3     4     5     6     7     8     9    10    11    12    13  \\\n",
       "0  5.1  7.1  14.1  19.1  39.1  40.1  51.1  63.1  67.1  73.1  74.1  76.1  78.1   \n",
       "1  3.1  6.1  17.1  22.1  36.1  41.1  53.1  64.1  67.1  73.1  74.1  76.1  80.1   \n",
       "2  5.1  6.1  17.1  21.1  35.1  40.1  53.1  63.1  71.1  73.1  74.1  76.1  80.1   \n",
       "3  2.1  6.1  18.1  19.1  39.1  40.1  52.1  61.1  71.1  72.1  74.1  76.1  80.1   \n",
       "4  3.1  6.1  18.1  29.1  39.1  40.1  51.1  61.1  67.1  72.1  74.1  76.1  80.1   \n",
       "\n",
       "     14 objectif  \n",
       "0  83.1       -1  \n",
       "1  83.1       -1  \n",
       "2  83.1       -1  \n",
       "3  95.1       -1  \n",
       "4  83.1       -1  "
      ]
     },
     "execution_count": 46,
     "metadata": {},
     "output_type": "execute_result"
    }
   ],
   "source": [
    "df2.head()"
   ]
  },
  {
   "cell_type": "markdown",
   "id": "06dd99a0",
   "metadata": {},
   "source": [
    "* Voir le meilleur modèle pour les trois noyaux"
   ]
  },
  {
   "cell_type": "code",
   "execution_count": 47,
   "id": "a013ccd1",
   "metadata": {},
   "outputs": [
    {
     "name": "stdout",
     "output_type": "stream",
     "text": [
      "Meilleurs hyperparamètres pour SVM avec noyau linear: {'C': 10}\n",
      "Précision sur l'ensemble de test pour SVM avec noyau linear est à: 0.8312805019753661\n",
      "Meilleurs hyperparamètres pour SVM avec noyau poly: {'C': 10, 'degree': 3}\n",
      "Précision sur l'ensemble de test pour SVM avec noyau poly est à: 0.8312805019753661\n",
      "Meilleurs hyperparamètres pour SVM avec noyau rbf: {'C': 1, 'gamma': 0.5}\n",
      "Précision sur l'ensemble de test pour SVM avec noyau rbf est à: 0.819195909830351\n"
     ]
    }
   ],
   "source": [
    "# Initialiser le modèle SVM\n",
    "svm_model = SVC()\n",
    "\n",
    "# Définir les grilles d'hyperparamètres pour chaque noyau\n",
    "param_grids = {\n",
    "    'linear': {'C': [0.25, 1, 10]},\n",
    "    'poly': {'C': [0.25, 1, 10], 'degree': [3, 5, 9]},\n",
    "    'rbf': {'C': [0.25, 1, 10], 'gamma': [0.5, 1, 3]}\n",
    "}\n",
    "\n",
    "# Créer scorer qui se réfère à l'Accuracy pour évaluer la performance du modèle\n",
    "scorer = {'accuracy': make_scorer(accuracy_score)}\n",
    "\n",
    "# Utiliser GridSearchCV pour chaque noyau\n",
    "for kernel, param_grid in param_grids.items():\n",
    "    grid_search = GridSearchCV(svm_model, param_grid, cv=5, scoring=scorer, refit='accuracy')\n",
    "    grid_search.fit(X_train_t, y_train_t)\n",
    "\n",
    "    # Afficher les meilleurs hyperparamètres trouvés\n",
    "    print(f\"Meilleurs hyperparamètres pour SVM avec noyau {kernel}: {grid_search.best_params_}\")\n",
    "\n",
    "    # Obtenir le meilleur modèle entraîné\n",
    "    meilleur_model_t = grid_search.best_estimator_\n",
    "\n",
    "    # Prédire sur l'ensemble de validation\n",
    "    y_test_pred_t = meilleur_model_t.predict(X_test_t)\n",
    "\n",
    "    # Évaluer la performance sur l'ensemble de validation\n",
    "    accuracy_test = accuracy_score(y_test_t, y_test_pred_t)\n",
    "    print(f\"Précision sur l'ensemble de test pour SVM avec noyau {kernel} est à: {accuracy_test}\")"
   ]
  },
  {
   "cell_type": "markdown",
   "id": "09ba7842",
   "metadata": {},
   "source": [
    "### <font color=pink>Résultats</font>"
   ]
  },
  {
   "cell_type": "markdown",
   "id": "b113d680",
   "metadata": {},
   "source": [
    "**SVM avec noyau linéaire :**\n",
    "\n",
    "Le modèle SVM avec noyau linéaire, utilisant un paramètre de régularisation C égal à 10, a obtenu une précision de 83.1% sur l'ensemble de test. Cela indique que ce modèle a une bonne capacité à classifier correctement les données de test.\n",
    "\n",
    "**SVM avec noyau polynomial :**\n",
    "\n",
    "Le modèle SVM avec noyau polynomial, utilisant un paramètre de régularisation C égal à 10 et un degré de polynôme égal à 3, a également obtenu une précision de 83.1% sur l'ensemble de test. Cela montre que ce modèle présente des performances similaires à celui avec noyau linéaire.\n",
    "\n",
    "**SVM avec noyau RBF (Gaussien) :**\n",
    "\n",
    "Le modèle SVM avec noyau RBF, utilisant un paramètre de régularisation C égal à 1 et un paramètre gamma égal à 0.5, a obtenu une précision de 81.9% sur l'ensemble de test. Bien que légèrement inférieure aux modèles avec noyau linéaire et polynomial, cette précision reste assez élevée, indiquant une capacité solide de généralisation du modèle.\n",
    "\n",
    "En résumé, les modèles SVM avec noyau linéaire et polynomial, tous deux avec un paramètre de régularisation C de 10, ont présenté des performances de précision similaires et légèrement supérieures à celles du modèle avec noyau RBF. Ces résultats suggèrent que le choix du noyau peut affecter les performances du modèle, mais dans ce cas, les différences ne sont pas très significatives entre les noyaux linéaire et polynomial."
   ]
  },
  {
   "cell_type": "markdown",
   "id": "cf96a6ef",
   "metadata": {},
   "source": [
    "### **<font color=green>Comparer et expliquer les résultats obtenus</font>**"
   ]
  },
  {
   "cell_type": "markdown",
   "id": "7ac18360",
   "metadata": {},
   "source": [
    "    Lors de la comparaison des performances des modèles SVM sur deux ensembles de données différents, des similitudes et des différences significatives ont été observées. \n",
    "Le premier ensemble de données, comprenant 1478 lignes, a révélé des performances de modèle similaires au deuxième ensemble de données, beaucoup plus grand avec 28684 lignes. Dans les deux cas, les modèles SVM avec noyaux linéaire et polynomial ont présenté des performances de précision légèrement supérieures à celles du modèle avec noyau RBF. \n",
    "\n",
    "Cependant, les valeurs des hyperparamètres optimaux ont montré des variations entre les deux ensembles de données. Par exemple, le paramètre de régularisation C optimal était de 0.25 dans le premier ensemble de données, tandis qu'il était de 10 dans le deuxième ensemble \"a1a_test\". Ces différences dans les performances et les hyperparamètres optimaux peuvent être attribuées aux caractéristiques spécifiques des ensembles de données, telles que **la taille, la distribution des classes et la complexité des relations entre les caractéristiques**. \n",
    "\n",
    "En conclusion, bien que les performances des modèles restent cohérentes entre les ensembles de données, il est essentiel de prendre en compte les variations dans les hyperparamètres optimaux et les performances précises pour obtenir une évaluation globale de la capacité de généralisation des modèles."
   ]
  },
  {
   "cell_type": "markdown",
   "id": "784a5324",
   "metadata": {},
   "source": [
    "#### 5/ Construire <font color=red> les arbres de décision obtenus par la méthode CART et les forêts aléatoires</font> . Utiliser pour ce cas la validation croisée pour les hyperpamètres optimaux des arbres. Commentez vos résultats.\n",
    "***"
   ]
  },
  {
   "cell_type": "code",
   "execution_count": 24,
   "id": "1feb6ca2",
   "metadata": {},
   "outputs": [
    {
     "name": "stdout",
     "output_type": "stream",
     "text": [
      "Meilleurs hyperparamètres pour CART: {'max_depth': 5, 'min_samples_split': 5}\n",
      "Précision sur l'ensemble de test (CART): 0.8040540540540541\n",
      "Meilleurs hyperparamètres pour Random Forest: {'max_depth': None, 'min_samples_split': 5, 'n_estimators': 50}\n",
      "Précision sur l'ensemble de test (Random Forest): 0.7927927927927928\n"
     ]
    }
   ],
   "source": [
    "# Initialiser le modèle CART avec validation croisée\n",
    "cart_param_grid = {'max_depth': [None, 5, 10, 15], 'min_samples_split': [2, 5, 10]}\n",
    "cart_model = DecisionTreeClassifier()\n",
    "cart_grid_search = GridSearchCV(cart_model, cart_param_grid, cv=5, scoring='accuracy')\n",
    "cart_grid_search.fit(X_train, y_train)\n",
    "\n",
    "# Afficher les meilleurs hyperparamètres pour l'arbre CART\n",
    "print(\"Meilleurs hyperparamètres pour CART:\", cart_grid_search.best_params_)\n",
    "\n",
    "# Construire l'arbre CART avec les hyperparamètres optimaux\n",
    "cart_model_optimal = DecisionTreeClassifier(**cart_grid_search.best_params_)\n",
    "cart_model_optimal.fit(X_train, y_train)\n",
    "\n",
    "# Prédire sur l'ensemble de validation\n",
    "y_val_pred_cart = cart_model_optimal.predict(X_test)\n",
    "\n",
    "# Évaluer la performance sur l'ensemble de validation\n",
    "accuracy_val_cart = accuracy_score(y_test, y_val_pred_cart)\n",
    "print(\"Précision sur l'ensemble de test (CART):\", accuracy_val_cart)\n",
    "\n",
    "# Initialiser le modèle de forêt aléatoire avec validation croisée\n",
    "rf_param_grid = {'n_estimators': [50, 100, 150], 'max_depth': [None, 10, 20], 'min_samples_split': [2, 5, 10]}\n",
    "rf_model = RandomForestClassifier()\n",
    "rf_grid_search = GridSearchCV(rf_model, rf_param_grid, cv=5, scoring='accuracy')\n",
    "rf_grid_search.fit(X_train, y_train)\n",
    "\n",
    "# Afficher les meilleurs hyperparamètres pour la forêt aléatoire\n",
    "print(\"Meilleurs hyperparamètres pour Random Forest:\", rf_grid_search.best_params_)\n",
    "\n",
    "# Construire la forêt aléatoire avec les hyperparamètres optimaux\n",
    "rf_model_optimal = RandomForestClassifier(**rf_grid_search.best_params_)\n",
    "rf_model_optimal.fit(X_train, y_train)\n",
    "\n",
    "# Prédire sur l'ensemble de validation\n",
    "y_val_pred_rf = rf_model_optimal.predict(X_test)\n",
    "\n",
    "# Évaluer la performance sur l'ensemble de validation\n",
    "accuracy_val_rf = accuracy_score(y_test, y_val_pred_rf)\n",
    "print(\"Précision sur l'ensemble de test (Random Forest):\", accuracy_val_rf)"
   ]
  },
  {
   "cell_type": "markdown",
   "id": "0709414f",
   "metadata": {},
   "source": [
    "### **<font color=green> Comparaison des résultats</font>**"
   ]
  },
  {
   "cell_type": "markdown",
   "id": "47793495",
   "metadata": {},
   "source": [
    "**1. CART (Classification and Regression Trees) :**\n",
    "\n",
    "Pour l'algorithme CART, les meilleurs hyperparamètres sont une profondeur maximale de l'arbre (max_depth) de 5 et un nombre minimal d'échantillons requis pour diviser un nœud interne (min_samples_split) de 5. La précision obtenue sur l'ensemble de test est de 80.41%.\n",
    "\n",
    "**2. Random Forest :**\n",
    "\n",
    "Pour l'algorithme Random Forest, les meilleurs hyperparamètres sont une profondeur maximale de chaque arbre de décision (max_depth) de 10, un nombre minimal d'échantillons requis pour diviser un nœud interne (min_samples_split) de 5, et le nombre d'arbres à construire (n_estimators) est de 150. La précision obtenue sur l'ensemble de test est de 79.73%.\n",
    "\n",
    "**Explication :**\n",
    "\n",
    "Les résultats montrent que l'algorithme Random Forest a légèrement surpassé  CART en termes de précision, avec une précision de 81.08% contre 80.40% (parmi ses raisons, la profondeur maximale de l'arbre avec CART est plus petite que celle avec Random Forest). Cependant, il est important de noter que la différence de précision entre les deux algorithmes n'est pas très significative.  \n",
    "L'algorithme CART utilise un seul arbre de décision pour la classification, tandis que Random Forest est un ensemble d'arbres de décision, où la prédiction est faite en agrégeant les prédictions de chaque arbre individuel. Random Forest tend généralement à réduire la variance par rapport à CART en moyennant les prédictions de plusieurs arbres, ce qui peut améliorer la robustesse du modèle.\n",
    "Les meilleurs hyperparamètres trouvés pour chaque algorithme peuvent varier en fonction des caractéristiques spécifiques des données et des exigences de performance. Dans ce cas, les hyperparamètres optimaux pour CART et Random Forest sont différents, ce qui peut être dû à la complexité inhérente des données et à la manière dont chaque algorithme traite cette complexité.  "
   ]
  },
  {
   "cell_type": "markdown",
   "id": "a2b34571",
   "metadata": {},
   "source": [
    "#### 6/ Comparer le temps d’exécution des approches utilisées\n",
    "***"
   ]
  },
  {
   "cell_type": "code",
   "execution_count": 23,
   "id": "2d2c996c",
   "metadata": {},
   "outputs": [
    {
     "name": "stdout",
     "output_type": "stream",
     "text": [
      "Temps d'entraînement (CART): 0.5644619464874268\n",
      "Temps de prédiction (CART): 0.002329111099243164\n",
      "Temps d'entraînement (Random Forest): 50.32769250869751\n",
      "Temps de prédiction (Random Forest): 0.055652618408203125\n",
      "Temps d'entraînement (SVM avec noyau linear): 0.7738330364227295\n",
      "Temps de prédiction (SVM avec noyau linear): 0.04865097999572754\n",
      "Temps d'entraînement (SVM avec noyau poly): 2.164806604385376\n",
      "Temps de prédiction (SVM avec noyau poly): 0.05971050262451172\n",
      "Temps d'entraînement (SVM avec noyau rbf): 5.792062520980835\n",
      "Temps de prédiction (SVM avec noyau rbf): 0.08558106422424316\n"
     ]
    }
   ],
   "source": [
    "import time\n",
    "\n",
    "# Temps d'exécution pour CART\n",
    "start_time = time.time()\n",
    "cart_grid_search.fit(X_train, y_train)\n",
    "cart_train_time = time.time() - start_time\n",
    "\n",
    "start_time = time.time()\n",
    "y_val_pred_cart = cart_model_optimal.predict(X_test)\n",
    "cart_pred_time = time.time() - start_time\n",
    "\n",
    "# Temps d'exécution pour Random Forest\n",
    "start_time = time.time()\n",
    "rf_grid_search.fit(X_train, y_train)\n",
    "rf_train_time = time.time() - start_time\n",
    "\n",
    "start_time = time.time()\n",
    "y_val_pred_rf = rf_model_optimal.predict(X_test)\n",
    "rf_pred_time = time.time() - start_time\n",
    "\n",
    "# Temps d'exécution pour SVM\n",
    "svm_train_times = []\n",
    "svm_pred_times = []\n",
    "\n",
    "for kernel, param_grid in param_grids.items():\n",
    "    start_time = time.time()\n",
    "    grid_search = GridSearchCV(svm_model, param_grid, cv=5, scoring=scorer, refit='accuracy')\n",
    "    grid_search.fit(X_train, y_train)\n",
    "    svm_train_times.append(time.time() - start_time)\n",
    "\n",
    "    start_time = time.time()\n",
    "    meilleur_model = grid_search.best_estimator_\n",
    "    y_test_pred = meilleur_model.predict(X_test)\n",
    "    svm_pred_times.append(time.time() - start_time)\n",
    "\n",
    "# Afficher les résultats\n",
    "print(\"Temps d'entraînement (CART):\", cart_train_time)\n",
    "print(\"Temps de prédiction (CART):\", cart_pred_time)\n",
    "print(\"Temps d'entraînement (Random Forest):\", rf_train_time)\n",
    "print(\"Temps de prédiction (Random Forest):\", rf_pred_time)\n",
    "\n",
    "for kernel, train_time, pred_time in zip(param_grids.keys(), svm_train_times, svm_pred_times):\n",
    "    print(f\"Temps d'entraînement (SVM avec noyau {kernel}):\", train_time)\n",
    "    print(f\"Temps de prédiction (SVM avec noyau {kernel}):\", pred_time)\n"
   ]
  },
  {
   "cell_type": "markdown",
   "id": "dbabc426",
   "metadata": {},
   "source": [
    "#### 7/ Conclusion"
   ]
  },
  {
   "cell_type": "markdown",
   "id": "3abdd38f",
   "metadata": {},
   "source": [
    "- Le modèle CART (Classification and Regression Trees) présente le temps d'entraînement le plus rapide parmi les trois méthodes évaluées, avec seulement 0.56 seconde, et un temps de prédiction pratiquement négligeable de **0.0023** seconde.   \n",
    "En revanche, la méthode Random Forest nécessite considérablement plus de temps avec 50.33 secondes pour l'entraînement, mais offre un temps de prédiction relativement rapide de **0.0556** seconde.   \n",
    "En ce qui concerne les SVM avec différents noyaux, la variante linéaire présente le temps d'entraînement le plus court de 0.77 seconde, tandis que les noyaux poly et rbf nécessitent respectivement 2.16 et 5.79 secondes pour l'entraînement. Cependant, tous les noyaux SVM ont des temps de prédiction relativement similaires, se situant autour de 0.05 à 0.09 seconde.  \n",
    "\n",
    "- Ces résultats suggèrent que pour des ensembles de données de taille modérée à grande, les arbres de décision peuvent offrir une solution rapide et efficace, tandis que les SVM peuvent être plus coûteux en termes de temps d'entraînement, en particulier avec des noyaux non linéaires."
   ]
  }
 ],
 "metadata": {
  "kernelspec": {
   "display_name": "Python 3 (ipykernel)",
   "language": "python",
   "name": "python3"
  },
  "language_info": {
   "codemirror_mode": {
    "name": "ipython",
    "version": 3
   },
   "file_extension": ".py",
   "mimetype": "text/x-python",
   "name": "python",
   "nbconvert_exporter": "python",
   "pygments_lexer": "ipython3",
   "version": "3.11.8"
  }
 },
 "nbformat": 4,
 "nbformat_minor": 5
}
